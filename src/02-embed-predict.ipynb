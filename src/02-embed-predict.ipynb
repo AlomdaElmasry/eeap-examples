{
 "cells": [
  {
   "cell_type": "markdown",
   "metadata": {},
   "source": [
    "# Embed and Predict (BoW)\n",
    "\n",
    "We treat each document as a Bag of Words (BoW), and just average the GloVe word embeddings to create document vectors, and run them through a 2 layer classifier network."
   ]
  },
  {
   "cell_type": "code",
   "execution_count": 1,
   "metadata": {
    "collapsed": false
   },
   "outputs": [
    {
     "name": "stderr",
     "output_type": "stream",
     "text": [
      "Using TensorFlow backend.\n"
     ]
    }
   ],
   "source": [
    "from __future__ import division, print_function\n",
    "from keras.layers import Input\n",
    "from keras.layers.core import Dense, Dropout\n",
    "from keras.models import Model\n",
    "from keras.optimizers import Adam\n",
    "from keras.utils import to_categorical\n",
    "from sklearn.datasets import fetch_20newsgroups\n",
    "from sklearn.linear_model import SGDClassifier\n",
    "from sklearn.metrics import accuracy_score, confusion_matrix\n",
    "from sklearn.model_selection import train_test_split\n",
    "import matplotlib.pyplot as plt\n",
    "import nltk\n",
    "import numpy as np\n",
    "import logging\n",
    "import os\n",
    "%matplotlib inline"
   ]
  },
  {
   "cell_type": "code",
   "execution_count": 2,
   "metadata": {
    "collapsed": true
   },
   "outputs": [],
   "source": [
    "DATA_DIR = \"../data\"\n",
    "\n",
    "VOCAB_FILE = os.path.join(DATA_DIR, \"ng-vocab.tsv\")\n",
    "MIN_OCCURS = 5\n",
    "\n",
    "GLOVE_FILE = os.path.join(DATA_DIR, \"glove.840B.300d.txt\")\n",
    "WORD_EMBED_SIZE = 300\n",
    "\n",
    "NUM_CLASSES = 20\n",
    "BATCH_SIZE = 64\n",
    "NUM_EPOCHS = 50\n",
    "\n",
    "logging.basicConfig()"
   ]
  },
  {
   "cell_type": "markdown",
   "metadata": {},
   "source": [
    "## Load Vocabulary"
   ]
  },
  {
   "cell_type": "code",
   "execution_count": 3,
   "metadata": {
    "collapsed": false
   },
   "outputs": [
    {
     "name": "stdout",
     "output_type": "stream",
     "text": [
      "vocab_size: 40730\n"
     ]
    }
   ],
   "source": [
    "word2id = {\"PAD\": 0, \"UNK\": 1}\n",
    "fvocab = open(VOCAB_FILE, \"rb\")\n",
    "for i, line in enumerate(fvocab):\n",
    "    word, count = line.strip().split(\"\\t\")\n",
    "    if int(count) <= MIN_OCCURS:\n",
    "        break\n",
    "    word2id[word] = i\n",
    "fvocab.close()\n",
    "id2word = {v:k for k, v in word2id.items()}\n",
    "vocab_size = len(word2id)\n",
    "print(\"vocab_size: {:d}\".format(vocab_size))"
   ]
  },
  {
   "cell_type": "markdown",
   "metadata": {},
   "source": [
    "## Load GloVe embeddings"
   ]
  },
  {
   "cell_type": "code",
   "execution_count": 4,
   "metadata": {
    "collapsed": false
   },
   "outputs": [
    {
     "name": "stdout",
     "output_type": "stream",
     "text": [
      "(40730, 300)\n"
     ]
    }
   ],
   "source": [
    "E = np.zeros((vocab_size, WORD_EMBED_SIZE))\n",
    "E[1] = np.random.random(WORD_EMBED_SIZE)\n",
    "fglove = open(GLOVE_FILE, \"rb\")\n",
    "for line in fglove:\n",
    "    cols = line.strip().split(\" \")\n",
    "    word = cols[0]\n",
    "    if not word2id.has_key(word):\n",
    "        continue\n",
    "    vec = np.array([float(x) for x in cols[1:]])\n",
    "    idx = word2id[word]\n",
    "    E[idx] = vec\n",
    "fglove.close()\n",
    "print(E.shape)"
   ]
  },
  {
   "cell_type": "markdown",
   "metadata": {},
   "source": [
    "## Compute Document Vectors"
   ]
  },
  {
   "cell_type": "code",
   "execution_count": 5,
   "metadata": {
    "collapsed": false
   },
   "outputs": [
    {
     "name": "stdout",
     "output_type": "stream",
     "text": [
      "18846\n"
     ]
    }
   ],
   "source": [
    "ng_data = fetch_20newsgroups(subset='all',\n",
    "                             data_home=DATA_DIR,\n",
    "                             shuffle=True, \n",
    "                             random_state=42)\n",
    "num_docs = len(ng_data.data)\n",
    "print(num_docs)"
   ]
  },
  {
   "cell_type": "code",
   "execution_count": 6,
   "metadata": {
    "collapsed": false
   },
   "outputs": [
    {
     "name": "stdout",
     "output_type": "stream",
     "text": [
      "(18846, 300)\n"
     ]
    }
   ],
   "source": [
    "D = np.zeros((num_docs, WORD_EMBED_SIZE))\n",
    "for i, text in enumerate(ng_data.data):\n",
    "    doc_vec = np.zeros(WORD_EMBED_SIZE)\n",
    "    num_words = 0\n",
    "    for sent in nltk.sent_tokenize(text):\n",
    "        sent = sent.encode(\"utf8\").decode(\"ascii\", \"ignore\").lower()\n",
    "        for word in nltk.word_tokenize(sent):\n",
    "            try:\n",
    "                doc_vec += E[word2id[word]]\n",
    "            except KeyError:\n",
    "                doc_vec += E[word2id[\"UNK\"]]\n",
    "            num_words += 1\n",
    "    doc_vec /= num_words\n",
    "    D[i] = doc_vec\n",
    "print(D.shape)"
   ]
  },
  {
   "cell_type": "markdown",
   "metadata": {},
   "source": [
    "## Data Generation"
   ]
  },
  {
   "cell_type": "code",
   "execution_count": 7,
   "metadata": {
    "collapsed": false
   },
   "outputs": [
    {
     "name": "stdout",
     "output_type": "stream",
     "text": [
      "(18846, 20)\n"
     ]
    }
   ],
   "source": [
    "y = ng_data.target\n",
    "Y = to_categorical(y, num_classes=NUM_CLASSES)\n",
    "print(Y.shape)"
   ]
  },
  {
   "cell_type": "code",
   "execution_count": 8,
   "metadata": {
    "collapsed": false
   },
   "outputs": [
    {
     "name": "stdout",
     "output_type": "stream",
     "text": [
      "(13192, 300) (13192, 20) (5654, 300) (5654, 20)\n"
     ]
    }
   ],
   "source": [
    "Xtrain, Xtest, Ytrain, Ytest = train_test_split(D, Y, train_size=0.7)\n",
    "print(Xtrain.shape, Ytrain.shape, Xtest.shape, Ytest.shape)"
   ]
  },
  {
   "cell_type": "markdown",
   "metadata": {},
   "source": [
    "## Define Network"
   ]
  },
  {
   "cell_type": "code",
   "execution_count": 9,
   "metadata": {
    "collapsed": true
   },
   "outputs": [],
   "source": [
    "inputs = Input(shape=(WORD_EMBED_SIZE, ))\n",
    "fc1 = Dense(100, activation=\"relu\")(inputs)\n",
    "fc1_dropout = Dropout(0.2)(fc1)\n",
    "fc2 = Dense(50, activation=\"relu\")(fc1_dropout)\n",
    "fc2_dropout = Dropout(0.2)(fc2)\n",
    "outputs = Dense(NUM_CLASSES, activation=\"softmax\")(fc1_dropout)"
   ]
  },
  {
   "cell_type": "code",
   "execution_count": 10,
   "metadata": {
    "collapsed": true
   },
   "outputs": [],
   "source": [
    "model = Model(inputs=inputs, outputs=outputs)"
   ]
  },
  {
   "cell_type": "code",
   "execution_count": 11,
   "metadata": {
    "collapsed": true
   },
   "outputs": [],
   "source": [
    "model.compile(optimizer=\"adam\", loss=\"categorical_crossentropy\",\n",
    "             metrics=[\"accuracy\"])"
   ]
  },
  {
   "cell_type": "code",
   "execution_count": 12,
   "metadata": {
    "collapsed": false
   },
   "outputs": [
    {
     "name": "stdout",
     "output_type": "stream",
     "text": [
      "_________________________________________________________________\n",
      "Layer (type)                 Output Shape              Param #   \n",
      "=================================================================\n",
      "input_1 (InputLayer)         (None, 300)               0         \n",
      "_________________________________________________________________\n",
      "dense_1 (Dense)              (None, 100)               30100     \n",
      "_________________________________________________________________\n",
      "dropout_1 (Dropout)          (None, 100)               0         \n",
      "_________________________________________________________________\n",
      "dense_3 (Dense)              (None, 20)                2020      \n",
      "=================================================================\n",
      "Total params: 32,120\n",
      "Trainable params: 32,120\n",
      "Non-trainable params: 0\n",
      "_________________________________________________________________\n"
     ]
    }
   ],
   "source": [
    "model.summary()"
   ]
  },
  {
   "cell_type": "markdown",
   "metadata": {},
   "source": [
    "## Train Network"
   ]
  },
  {
   "cell_type": "code",
   "execution_count": 13,
   "metadata": {
    "collapsed": false
   },
   "outputs": [
    {
     "name": "stdout",
     "output_type": "stream",
     "text": [
      "Train on 11872 samples, validate on 1320 samples\n",
      "Epoch 1/50\n",
      "11872/11872 [==============================] - 62s - loss: 2.6738 - acc: 0.2479 - val_loss: 2.2422 - val_acc: 0.4303\n",
      "Epoch 2/50\n",
      "11872/11872 [==============================] - 0s - loss: 1.9640 - acc: 0.4536 - val_loss: 1.6943 - val_acc: 0.5492\n",
      "Epoch 3/50\n",
      "11872/11872 [==============================] - 0s - loss: 1.5686 - acc: 0.5435 - val_loss: 1.4280 - val_acc: 0.6083\n",
      "Epoch 4/50\n",
      "11872/11872 [==============================] - 0s - loss: 1.3615 - acc: 0.5864 - val_loss: 1.2748 - val_acc: 0.6386\n",
      "Epoch 5/50\n",
      "11872/11872 [==============================] - 0s - loss: 1.2331 - acc: 0.6150 - val_loss: 1.1749 - val_acc: 0.6530\n",
      "Epoch 6/50\n",
      "11872/11872 [==============================] - 0s - loss: 1.1358 - acc: 0.6427 - val_loss: 1.1118 - val_acc: 0.6598\n",
      "Epoch 7/50\n",
      "11872/11872 [==============================] - 0s - loss: 1.0791 - acc: 0.6619 - val_loss: 1.0716 - val_acc: 0.6765\n",
      "Epoch 8/50\n",
      "11872/11872 [==============================] - 0s - loss: 1.0308 - acc: 0.6726 - val_loss: 1.0250 - val_acc: 0.6924\n",
      "Epoch 9/50\n",
      "11872/11872 [==============================] - ETA: 0s - loss: 0.9825 - acc: 0.687 - 0s - loss: 0.9837 - acc: 0.6867 - val_loss: 1.0014 - val_acc: 0.7000\n",
      "Epoch 10/50\n",
      "11872/11872 [==============================] - 0s - loss: 0.9496 - acc: 0.6963 - val_loss: 0.9779 - val_acc: 0.7030\n",
      "Epoch 11/50\n",
      "11872/11872 [==============================] - 0s - loss: 0.9143 - acc: 0.7065 - val_loss: 0.9431 - val_acc: 0.7144\n",
      "Epoch 12/50\n",
      "11872/11872 [==============================] - 0s - loss: 0.8857 - acc: 0.7171 - val_loss: 0.9309 - val_acc: 0.7197\n",
      "Epoch 13/50\n",
      "11872/11872 [==============================] - 0s - loss: 0.8653 - acc: 0.7224 - val_loss: 0.9280 - val_acc: 0.7068\n",
      "Epoch 14/50\n",
      "11872/11872 [==============================] - 0s - loss: 0.8510 - acc: 0.7283 - val_loss: 0.8934 - val_acc: 0.7242\n",
      "Epoch 15/50\n",
      "11872/11872 [==============================] - 0s - loss: 0.8286 - acc: 0.7344 - val_loss: 0.8802 - val_acc: 0.7235\n",
      "Epoch 16/50\n",
      "11872/11872 [==============================] - 0s - loss: 0.8084 - acc: 0.7401 - val_loss: 0.8779 - val_acc: 0.7311\n",
      "Epoch 17/50\n",
      "11872/11872 [==============================] - 0s - loss: 0.7934 - acc: 0.7472 - val_loss: 0.8690 - val_acc: 0.7303\n",
      "Epoch 18/50\n",
      "11872/11872 [==============================] - 0s - loss: 0.7748 - acc: 0.7493 - val_loss: 0.8520 - val_acc: 0.7356\n",
      "Epoch 19/50\n",
      "11872/11872 [==============================] - 0s - loss: 0.7613 - acc: 0.7529 - val_loss: 0.8489 - val_acc: 0.7394\n",
      "Epoch 20/50\n",
      "11872/11872 [==============================] - 0s - loss: 0.7473 - acc: 0.7590 - val_loss: 0.8308 - val_acc: 0.7432\n",
      "Epoch 21/50\n",
      "11872/11872 [==============================] - 0s - loss: 0.7353 - acc: 0.7615 - val_loss: 0.8266 - val_acc: 0.7386\n",
      "Epoch 22/50\n",
      "11872/11872 [==============================] - 0s - loss: 0.7271 - acc: 0.7615 - val_loss: 0.8284 - val_acc: 0.7356\n",
      "Epoch 23/50\n",
      "11872/11872 [==============================] - 0s - loss: 0.7137 - acc: 0.7702 - val_loss: 0.8170 - val_acc: 0.7402\n",
      "Epoch 24/50\n",
      "11872/11872 [==============================] - 0s - loss: 0.7045 - acc: 0.7689 - val_loss: 0.8261 - val_acc: 0.7462\n",
      "Epoch 25/50\n",
      "11872/11872 [==============================] - 0s - loss: 0.6935 - acc: 0.7793 - val_loss: 0.8079 - val_acc: 0.7455\n",
      "Epoch 26/50\n",
      "11872/11872 [==============================] - 0s - loss: 0.6847 - acc: 0.7775 - val_loss: 0.7957 - val_acc: 0.7598\n",
      "Epoch 27/50\n",
      "11872/11872 [==============================] - 0s - loss: 0.6682 - acc: 0.7825 - val_loss: 0.7942 - val_acc: 0.7485\n",
      "Epoch 28/50\n",
      "11872/11872 [==============================] - 0s - loss: 0.6683 - acc: 0.7835 - val_loss: 0.7863 - val_acc: 0.7591\n",
      "Epoch 29/50\n",
      "11872/11872 [==============================] - 0s - loss: 0.6587 - acc: 0.7866 - val_loss: 0.7884 - val_acc: 0.7591\n",
      "Epoch 30/50\n",
      "11872/11872 [==============================] - 0s - loss: 0.6495 - acc: 0.7897 - val_loss: 0.7814 - val_acc: 0.7652\n",
      "Epoch 31/50\n",
      "11872/11872 [==============================] - 0s - loss: 0.6407 - acc: 0.7900 - val_loss: 0.7832 - val_acc: 0.7629\n",
      "Epoch 32/50\n",
      "11872/11872 [==============================] - 0s - loss: 0.6398 - acc: 0.7900 - val_loss: 0.7766 - val_acc: 0.7568\n",
      "Epoch 33/50\n",
      "11872/11872 [==============================] - 0s - loss: 0.6242 - acc: 0.8015 - val_loss: 0.7760 - val_acc: 0.7636\n",
      "Epoch 34/50\n",
      "11872/11872 [==============================] - 0s - loss: 0.6199 - acc: 0.7973 - val_loss: 0.7824 - val_acc: 0.7561\n",
      "Epoch 35/50\n",
      "11872/11872 [==============================] - 0s - loss: 0.6160 - acc: 0.7976 - val_loss: 0.7620 - val_acc: 0.7561\n",
      "Epoch 36/50\n",
      "11872/11872 [==============================] - 0s - loss: 0.6032 - acc: 0.8011 - val_loss: 0.7589 - val_acc: 0.7720\n",
      "Epoch 37/50\n",
      "11872/11872 [==============================] - 0s - loss: 0.6039 - acc: 0.8053 - val_loss: 0.7659 - val_acc: 0.7742\n",
      "Epoch 38/50\n",
      "11872/11872 [==============================] - 0s - loss: 0.5955 - acc: 0.8058 - val_loss: 0.7569 - val_acc: 0.7705\n",
      "Epoch 39/50\n",
      "11872/11872 [==============================] - 0s - loss: 0.5892 - acc: 0.8086 - val_loss: 0.7577 - val_acc: 0.7674\n",
      "Epoch 40/50\n",
      "11872/11872 [==============================] - 0s - loss: 0.5848 - acc: 0.8080 - val_loss: 0.7556 - val_acc: 0.7758\n",
      "Epoch 41/50\n",
      "11872/11872 [==============================] - 0s - loss: 0.5790 - acc: 0.8091 - val_loss: 0.7664 - val_acc: 0.7667\n",
      "Epoch 42/50\n",
      "11872/11872 [==============================] - 0s - loss: 0.5718 - acc: 0.8115 - val_loss: 0.7545 - val_acc: 0.7689\n",
      "Epoch 43/50\n",
      "11872/11872 [==============================] - 0s - loss: 0.5621 - acc: 0.8151 - val_loss: 0.7516 - val_acc: 0.7765\n",
      "Epoch 44/50\n",
      "11872/11872 [==============================] - 0s - loss: 0.5645 - acc: 0.8141 - val_loss: 0.7561 - val_acc: 0.7682\n",
      "Epoch 45/50\n",
      "11872/11872 [==============================] - 0s - loss: 0.5527 - acc: 0.8179 - val_loss: 0.7461 - val_acc: 0.7765\n",
      "Epoch 46/50\n",
      "11872/11872 [==============================] - 0s - loss: 0.5574 - acc: 0.8173 - val_loss: 0.7478 - val_acc: 0.7818\n",
      "Epoch 47/50\n",
      "11872/11872 [==============================] - 0s - loss: 0.5436 - acc: 0.8235 - val_loss: 0.7471 - val_acc: 0.7705\n",
      "Epoch 48/50\n",
      "11872/11872 [==============================] - 0s - loss: 0.5392 - acc: 0.8231 - val_loss: 0.7458 - val_acc: 0.7735\n",
      "Epoch 49/50\n",
      "11872/11872 [==============================] - 0s - loss: 0.5366 - acc: 0.8237 - val_loss: 0.7392 - val_acc: 0.7826\n",
      "Epoch 50/50\n",
      "11872/11872 [==============================] - 0s - loss: 0.5322 - acc: 0.8283 - val_loss: 0.7479 - val_acc: 0.7750\n"
     ]
    }
   ],
   "source": [
    "history = model.fit(Xtrain, Ytrain, batch_size=BATCH_SIZE,\n",
    "                    epochs=NUM_EPOCHS, validation_split=0.1)"
   ]
  },
  {
   "cell_type": "code",
   "execution_count": 14,
   "metadata": {
    "collapsed": false
   },
   "outputs": [
    {
     "data": {
      "image/png": "[encoded data removed]",
      "text/plain": [
       "<matplotlib.figure.Figure at 0x7f8937bc4350>"
      ]
     },
     "metadata": {},
     "output_type": "display_data"
    }
   ],
   "source": [
    "plt.subplot(211)\n",
    "plt.title(\"accuracy\")\n",
    "plt.plot(history.history[\"acc\"], color=\"r\", label=\"train\")\n",
    "plt.plot(history.history[\"val_acc\"], color=\"b\", label=\"val\")\n",
    "plt.legend(loc=\"best\")\n",
    "\n",
    "plt.subplot(212)\n",
    "plt.title(\"loss\")\n",
    "plt.plot(history.history[\"loss\"], color=\"r\", label=\"train\")\n",
    "plt.plot(history.history[\"val_loss\"], color=\"b\", label=\"val\")\n",
    "plt.legend(loc=\"best\")\n",
    "\n",
    "plt.tight_layout()\n",
    "plt.show()"
   ]
  },
  {
   "cell_type": "markdown",
   "metadata": {},
   "source": [
    "## Evaluate Network"
   ]
  },
  {
   "cell_type": "code",
   "execution_count": 15,
   "metadata": {
    "collapsed": false
   },
   "outputs": [
    {
     "name": "stdout",
     "output_type": "stream",
     "text": [
      "accuracy score: 0.792\n",
      "\n",
      "confusion matrix\n",
      "\n",
      "[[150   1   0   0   0   0   0   1   4   3   0   1   0   3   2  14   3   6\n",
      "   11  39]\n",
      " [  2 183  16   7   4  24   3   1   0   2   0   0   4   4   4   0   0   1\n",
      "    0   3]\n",
      " [  0  24 190  25  12  26   3   0   0   1   0   1   3   2   1   0   0   0\n",
      "    1   1]\n",
      " [  0  13  23 181  38   5  10   3   1   0   0   2   8   1   1   0   0   0\n",
      "    0   0]\n",
      " [  0   6   9  25 229   3  10   0   1   0   1   1  15   1   0   0   0   0\n",
      "    1   0]\n",
      " [  0  32   7   4   3 257   1   0   0   0   0   1   1   0   2   0   0   1\n",
      "    0   2]\n",
      " [  0   2   2   5  10   2 216  12   4   2   2   3   6   0   3   1   1   0\n",
      "    0   0]\n",
      " [  0   1   3   0   0   1   3 269  20   1   0   0   8   1   5   0   1   1\n",
      "    3   0]\n",
      " [  0   2   0   0   2   1   3  11 286   1   0   0   1   2   1   0   4   1\n",
      "    6   1]\n",
      " [  0   1   0   0   0   1   1   0   3 271  15   0   0   2   0   1   0   0\n",
      "    1   0]\n",
      " [  0   2   0   0   0   1   2   0   1   3 272   1   0   1   1   0   0   0\n",
      "    1   1]\n",
      " [  1   1   2   0   0   4   1   0   2   0   0 256   6   2   1   0   9   2\n",
      "   12   0]\n",
      " [  1  13   2  13  23   2   8   9   4   1   0   3 190   2   6   0   1   0\n",
      "    2   0]\n",
      " [  2   3   0   0   3   2   0   0   4   2   0   1   4 280   4   0   0   0\n",
      "    2   1]\n",
      " [  3   6   0   0   0   3   0   0   0   1   0   2   3   7 266   0   1   3\n",
      "    7   0]\n",
      " [ 24   2   0   0   0   1   0   0   0   1   0   0   0   4   0 248   0   1\n",
      "    3  25]\n",
      " [  2   0   0   0   0   3   2   1   4   1   0   5   2   0   2   1 215   4\n",
      "   22   3]\n",
      " [  1   0   0   0   0   2   1   0   0   3   0   1   0   0   0   0   1 249\n",
      "   10   1]\n",
      " [  7   0   0   0   0   0   0   2   1   1   0   4   1   4   5   1  38   4\n",
      "  180   2]\n",
      " [ 29   0   0   0   0   0   0   1   1   0   0   0   0   4   3  31  25   2\n",
      "    5  92]]\n"
     ]
    }
   ],
   "source": [
    "np.set_printoptions(linewidth=120)\n",
    "Ytest_ = model.predict(Xtest)\n",
    "ytest_ = np.argmax(Ytest_, axis=1)\n",
    "ytest = np.argmax(Ytest, axis=1)\n",
    "print(\"accuracy score: {:.3f}\".format(accuracy_score(ytest, ytest_)))\n",
    "print(\"\\nconfusion matrix\\n\")\n",
    "print(confusion_matrix(ytest, ytest_))"
   ]
  },
  {
   "cell_type": "code",
   "execution_count": null,
   "metadata": {
    "collapsed": true
   },
   "outputs": [],
   "source": []
  }
 ],
 "metadata": {
  "kernelspec": {
   "display_name": "Python 2",
   "language": "python",
   "name": "python2"
  },
  "language_info": {
   "codemirror_mode": {
    "name": "ipython",
    "version": 2
   },
   "file_extension": ".py",
   "mimetype": "text/x-python",
   "name": "python",
   "nbconvert_exporter": "python",
   "pygments_lexer": "ipython2",
   "version": "2.7.13"
  }
 },
 "nbformat": 4,
 "nbformat_minor": 2
}
