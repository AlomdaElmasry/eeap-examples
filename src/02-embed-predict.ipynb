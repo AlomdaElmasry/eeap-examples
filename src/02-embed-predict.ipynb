{
 "cells": [
  {
   "cell_type": "markdown",
   "metadata": {},
   "source": [
    "# Embed and Predict (BoW)\n",
    "\n",
    "We treat each document as a Bag of Words (BoW), and just average the GloVe word embeddings to create document vectors, and run them through a 2 layer classifier network."
   ]
  },
  {
   "cell_type": "code",
   "execution_count": 1,
   "metadata": {},
   "outputs": [
    {
     "name": "stderr",
     "output_type": "stream",
     "text": [
      "Using TensorFlow backend.\n"
     ]
    }
   ],
   "source": [
    "from __future__ import division, print_function\n",
    "from keras.layers import Input\n",
    "from keras.layers.core import Dense, Dropout\n",
    "from keras.models import Model\n",
    "from keras.optimizers import Adam\n",
    "from keras.utils import to_categorical\n",
    "from sklearn.datasets import fetch_20newsgroups\n",
    "from sklearn.linear_model import SGDClassifier\n",
    "from sklearn.metrics import accuracy_score, confusion_matrix\n",
    "from sklearn.model_selection import train_test_split\n",
    "import matplotlib.pyplot as plt\n",
    "import nltk\n",
    "import numpy as np\n",
    "import logging\n",
    "import os\n",
    "%matplotlib inline"
   ]
  },
  {
   "cell_type": "code",
   "execution_count": 2,
   "metadata": {
    "collapsed": true
   },
   "outputs": [],
   "source": [
    "DATA_DIR = \"../data\"\n",
    "\n",
    "VOCAB_FILE = os.path.join(DATA_DIR, \"ng-vocab.tsv\")\n",
    "MIN_OCCURS = 5\n",
    "\n",
    "GLOVE_FILE = os.path.join(DATA_DIR, \"glove.840B.300d.txt\")\n",
    "WORD_EMBED_SIZE = 300\n",
    "\n",
    "NUM_CLASSES = 20\n",
    "BATCH_SIZE = 64\n",
    "NUM_EPOCHS = 50\n",
    "\n",
    "logging.basicConfig()"
   ]
  },
  {
   "cell_type": "markdown",
   "metadata": {},
   "source": [
    "## Load Vocabulary"
   ]
  },
  {
   "cell_type": "code",
   "execution_count": 3,
   "metadata": {},
   "outputs": [
    {
     "name": "stdout",
     "output_type": "stream",
     "text": [
      "vocab_size: 40730\n"
     ]
    }
   ],
   "source": [
    "word2id = {\"PAD\": 0, \"UNK\": 1}\n",
    "fvocab = open(VOCAB_FILE, \"rb\")\n",
    "for i, line in enumerate(fvocab):\n",
    "    word, count = line.strip().split(\"\\t\")\n",
    "    if int(count) <= MIN_OCCURS:\n",
    "        break\n",
    "    word2id[word] = i\n",
    "fvocab.close()\n",
    "id2word = {v:k for k, v in word2id.items()}\n",
    "vocab_size = len(word2id)\n",
    "print(\"vocab_size: {:d}\".format(vocab_size))"
   ]
  },
  {
   "cell_type": "markdown",
   "metadata": {},
   "source": [
    "## Load GloVe embeddings"
   ]
  },
  {
   "cell_type": "code",
   "execution_count": 4,
   "metadata": {},
   "outputs": [
    {
     "name": "stdout",
     "output_type": "stream",
     "text": [
      "(40730, 300)\n"
     ]
    }
   ],
   "source": [
    "E = np.zeros((vocab_size, WORD_EMBED_SIZE))\n",
    "E[1] = np.random.random(WORD_EMBED_SIZE)\n",
    "fglove = open(GLOVE_FILE, \"rb\")\n",
    "for line in fglove:\n",
    "    cols = line.strip().split(\" \")\n",
    "    word = cols[0]\n",
    "    if not word2id.has_key(word):\n",
    "        continue\n",
    "    vec = np.array([float(x) for x in cols[1:]])\n",
    "    idx = word2id[word]\n",
    "    E[idx] = vec\n",
    "fglove.close()\n",
    "print(E.shape)"
   ]
  },
  {
   "cell_type": "markdown",
   "metadata": {},
   "source": [
    "## Compute Document Vectors"
   ]
  },
  {
   "cell_type": "code",
   "execution_count": 5,
   "metadata": {},
   "outputs": [
    {
     "name": "stdout",
     "output_type": "stream",
     "text": [
      "18846\n"
     ]
    }
   ],
   "source": [
    "ng_data = fetch_20newsgroups(subset='all',\n",
    "                             data_home=DATA_DIR,\n",
    "                             shuffle=True, \n",
    "                             random_state=42)\n",
    "num_docs = len(ng_data.data)\n",
    "print(num_docs)"
   ]
  },
  {
   "cell_type": "code",
   "execution_count": 6,
   "metadata": {},
   "outputs": [
    {
     "name": "stdout",
     "output_type": "stream",
     "text": [
      "(18846, 300)\n"
     ]
    }
   ],
   "source": [
    "D = np.zeros((num_docs, WORD_EMBED_SIZE))\n",
    "for i, text in enumerate(ng_data.data):\n",
    "    doc_vec = np.zeros(WORD_EMBED_SIZE)\n",
    "    num_words = 0\n",
    "    for sent in nltk.sent_tokenize(text):\n",
    "        sent = sent.encode(\"utf8\").decode(\"ascii\", \"ignore\").lower()\n",
    "        for word in nltk.word_tokenize(sent):\n",
    "            try:\n",
    "                doc_vec += E[word2id[word]]\n",
    "            except KeyError:\n",
    "                doc_vec += E[word2id[\"UNK\"]]\n",
    "            num_words += 1\n",
    "    doc_vec /= num_words\n",
    "    D[i] = doc_vec\n",
    "print(D.shape)"
   ]
  },
  {
   "cell_type": "markdown",
   "metadata": {},
   "source": [
    "## Data Generation"
   ]
  },
  {
   "cell_type": "code",
   "execution_count": 7,
   "metadata": {},
   "outputs": [
    {
     "name": "stdout",
     "output_type": "stream",
     "text": [
      "(18846, 20)\n"
     ]
    }
   ],
   "source": [
    "y = ng_data.target\n",
    "Y = to_categorical(y, num_classes=NUM_CLASSES)\n",
    "print(Y.shape)"
   ]
  },
  {
   "cell_type": "code",
   "execution_count": 8,
   "metadata": {},
   "outputs": [
    {
     "name": "stdout",
     "output_type": "stream",
     "text": [
      "(13192, 300) (13192, 20) (5654, 300) (5654, 20)\n"
     ]
    }
   ],
   "source": [
    "Xtrain, Xtest, Ytrain, Ytest = train_test_split(D, Y, train_size=0.7)\n",
    "print(Xtrain.shape, Ytrain.shape, Xtest.shape, Ytest.shape)"
   ]
  },
  {
   "cell_type": "markdown",
   "metadata": {},
   "source": [
    "## Define Network"
   ]
  },
  {
   "cell_type": "code",
   "execution_count": 9,
   "metadata": {
    "collapsed": true
   },
   "outputs": [],
   "source": [
    "inputs = Input(shape=(WORD_EMBED_SIZE, ))\n",
    "fc1 = Dense(100, activation=\"relu\")(inputs)\n",
    "fc1_dropout = Dropout(0.2)(fc1)\n",
    "fc2 = Dense(50, activation=\"relu\")(fc1_dropout)\n",
    "fc2_dropout = Dropout(0.2)(fc2)\n",
    "outputs = Dense(NUM_CLASSES, activation=\"softmax\")(fc1_dropout)"
   ]
  },
  {
   "cell_type": "code",
   "execution_count": 10,
   "metadata": {
    "collapsed": true
   },
   "outputs": [],
   "source": [
    "model = Model(inputs=inputs, outputs=outputs)"
   ]
  },
  {
   "cell_type": "code",
   "execution_count": 11,
   "metadata": {
    "collapsed": true
   },
   "outputs": [],
   "source": [
    "model.compile(optimizer=\"adam\", loss=\"categorical_crossentropy\",\n",
    "             metrics=[\"accuracy\"])"
   ]
  },
  {
   "cell_type": "code",
   "execution_count": 12,
   "metadata": {},
   "outputs": [
    {
     "name": "stdout",
     "output_type": "stream",
     "text": [
      "_________________________________________________________________\n",
      "Layer (type)                 Output Shape              Param #   \n",
      "=================================================================\n",
      "input_1 (InputLayer)         (None, 300)               0         \n",
      "_________________________________________________________________\n",
      "dense_1 (Dense)              (None, 100)               30100     \n",
      "_________________________________________________________________\n",
      "dropout_1 (Dropout)          (None, 100)               0         \n",
      "_________________________________________________________________\n",
      "dense_3 (Dense)              (None, 20)                2020      \n",
      "=================================================================\n",
      "Total params: 32,120\n",
      "Trainable params: 32,120\n",
      "Non-trainable params: 0\n",
      "_________________________________________________________________\n"
     ]
    }
   ],
   "source": [
    "model.summary()"
   ]
  },
  {
   "cell_type": "markdown",
   "metadata": {},
   "source": [
    "## Train Network"
   ]
  },
  {
   "cell_type": "code",
   "execution_count": 13,
   "metadata": {},
   "outputs": [
    {
     "name": "stdout",
     "output_type": "stream",
     "text": [
      "Train on 11872 samples, validate on 1320 samples\n",
      "Epoch 1/50\n",
      "11872/11872 [==============================] - 2s - loss: 2.6806 - acc: 0.2431 - val_loss: 2.2646 - val_acc: 0.4508\n",
      "Epoch 2/50\n",
      "11872/11872 [==============================] - 0s - loss: 1.9914 - acc: 0.4540 - val_loss: 1.7100 - val_acc: 0.5250\n",
      "Epoch 3/50\n",
      "11872/11872 [==============================] - 0s - loss: 1.6071 - acc: 0.5255 - val_loss: 1.4305 - val_acc: 0.5879\n",
      "Epoch 4/50\n",
      "11872/11872 [==============================] - 0s - loss: 1.4036 - acc: 0.5774 - val_loss: 1.2727 - val_acc: 0.6265\n",
      "Epoch 5/50\n",
      "11872/11872 [==============================] - 0s - loss: 1.2650 - acc: 0.6132 - val_loss: 1.1701 - val_acc: 0.6561\n",
      "Epoch 6/50\n",
      "11872/11872 [==============================] - 0s - loss: 1.1878 - acc: 0.6223 - val_loss: 1.0945 - val_acc: 0.6750\n",
      "Epoch 7/50\n",
      "11872/11872 [==============================] - 0s - loss: 1.1156 - acc: 0.6502 - val_loss: 1.0414 - val_acc: 0.6765\n",
      "Epoch 8/50\n",
      "11872/11872 [==============================] - 0s - loss: 1.0595 - acc: 0.6649 - val_loss: 0.9991 - val_acc: 0.6833\n",
      "Epoch 9/50\n",
      "11872/11872 [==============================] - 0s - loss: 1.0168 - acc: 0.6825 - val_loss: 0.9622 - val_acc: 0.6970\n",
      "Epoch 10/50\n",
      "11872/11872 [==============================] - 0s - loss: 0.9737 - acc: 0.6915 - val_loss: 0.9376 - val_acc: 0.7023\n",
      "Epoch 11/50\n",
      "11872/11872 [==============================] - 0s - loss: 0.9436 - acc: 0.7017 - val_loss: 0.9177 - val_acc: 0.7015\n",
      "Epoch 12/50\n",
      "11872/11872 [==============================] - 0s - loss: 0.9093 - acc: 0.7134 - val_loss: 0.8858 - val_acc: 0.7121\n",
      "Epoch 13/50\n",
      "11872/11872 [==============================] - 0s - loss: 0.8904 - acc: 0.7171 - val_loss: 0.8676 - val_acc: 0.7144\n",
      "Epoch 14/50\n",
      "11872/11872 [==============================] - 0s - loss: 0.8650 - acc: 0.7258 - val_loss: 0.8562 - val_acc: 0.7227\n",
      "Epoch 15/50\n",
      "11872/11872 [==============================] - 0s - loss: 0.8535 - acc: 0.7258 - val_loss: 0.8482 - val_acc: 0.7409\n",
      "Epoch 16/50\n",
      "11872/11872 [==============================] - 0s - loss: 0.8286 - acc: 0.7392 - val_loss: 0.8210 - val_acc: 0.7311\n",
      "Epoch 17/50\n",
      "11872/11872 [==============================] - 0s - loss: 0.8142 - acc: 0.7401 - val_loss: 0.8144 - val_acc: 0.7364\n",
      "Epoch 18/50\n",
      "11872/11872 [==============================] - 0s - loss: 0.7995 - acc: 0.7459 - val_loss: 0.8037 - val_acc: 0.7341\n",
      "Epoch 19/50\n",
      "11872/11872 [==============================] - 0s - loss: 0.7833 - acc: 0.7498 - val_loss: 0.7875 - val_acc: 0.7477\n",
      "Epoch 20/50\n",
      "11872/11872 [==============================] - 0s - loss: 0.7785 - acc: 0.7475 - val_loss: 0.7756 - val_acc: 0.7447\n",
      "Epoch 21/50\n",
      "11872/11872 [==============================] - 0s - loss: 0.7542 - acc: 0.7551 - val_loss: 0.7788 - val_acc: 0.7515\n",
      "Epoch 22/50\n",
      "11872/11872 [==============================] - 0s - loss: 0.7494 - acc: 0.7594 - val_loss: 0.7627 - val_acc: 0.7500\n",
      "Epoch 23/50\n",
      "11872/11872 [==============================] - 0s - loss: 0.7333 - acc: 0.7651 - val_loss: 0.7633 - val_acc: 0.7500\n",
      "Epoch 24/50\n",
      "11872/11872 [==============================] - 0s - loss: 0.7275 - acc: 0.7648 - val_loss: 0.7433 - val_acc: 0.7598\n",
      "Epoch 25/50\n",
      "11872/11872 [==============================] - 0s - loss: 0.7132 - acc: 0.7700 - val_loss: 0.7374 - val_acc: 0.7568\n",
      "Epoch 26/50\n",
      "11872/11872 [==============================] - 0s - loss: 0.7016 - acc: 0.7718 - val_loss: 0.7256 - val_acc: 0.7667\n",
      "Epoch 27/50\n",
      "11872/11872 [==============================] - 0s - loss: 0.6953 - acc: 0.7732 - val_loss: 0.7241 - val_acc: 0.7659\n",
      "Epoch 28/50\n",
      "11872/11872 [==============================] - 0s - loss: 0.6913 - acc: 0.7753 - val_loss: 0.7171 - val_acc: 0.7636\n",
      "Epoch 29/50\n",
      "11872/11872 [==============================] - 0s - loss: 0.6788 - acc: 0.7774 - val_loss: 0.7091 - val_acc: 0.7697\n",
      "Epoch 30/50\n",
      "11872/11872 [==============================] - 0s - loss: 0.6696 - acc: 0.7812 - val_loss: 0.7094 - val_acc: 0.7659\n",
      "Epoch 31/50\n",
      "11872/11872 [==============================] - 0s - loss: 0.6679 - acc: 0.7837 - val_loss: 0.7028 - val_acc: 0.7697\n",
      "Epoch 32/50\n",
      "11872/11872 [==============================] - 0s - loss: 0.6517 - acc: 0.7896 - val_loss: 0.7083 - val_acc: 0.7697\n",
      "Epoch 33/50\n",
      "11872/11872 [==============================] - 0s - loss: 0.6490 - acc: 0.7887 - val_loss: 0.6924 - val_acc: 0.7750\n",
      "Epoch 34/50\n",
      "11872/11872 [==============================] - 0s - loss: 0.6440 - acc: 0.7908 - val_loss: 0.6892 - val_acc: 0.7682\n",
      "Epoch 35/50\n",
      "11872/11872 [==============================] - 0s - loss: 0.6301 - acc: 0.7946 - val_loss: 0.6818 - val_acc: 0.7750\n",
      "Epoch 36/50\n",
      "11872/11872 [==============================] - 0s - loss: 0.6224 - acc: 0.7962 - val_loss: 0.6833 - val_acc: 0.7758\n",
      "Epoch 37/50\n",
      "11872/11872 [==============================] - 0s - loss: 0.6161 - acc: 0.7986 - val_loss: 0.6757 - val_acc: 0.7674\n",
      "Epoch 38/50\n",
      "11872/11872 [==============================] - 0s - loss: 0.6182 - acc: 0.7989 - val_loss: 0.6786 - val_acc: 0.7848\n",
      "Epoch 39/50\n",
      "11872/11872 [==============================] - 0s - loss: 0.6085 - acc: 0.8001 - val_loss: 0.6708 - val_acc: 0.7826\n",
      "Epoch 40/50\n",
      "11872/11872 [==============================] - 0s - loss: 0.6032 - acc: 0.8009 - val_loss: 0.6762 - val_acc: 0.7750\n",
      "Epoch 41/50\n",
      "11872/11872 [==============================] - 0s - loss: 0.6011 - acc: 0.8057 - val_loss: 0.6695 - val_acc: 0.7705\n",
      "Epoch 42/50\n",
      "11872/11872 [==============================] - 0s - loss: 0.5904 - acc: 0.8085 - val_loss: 0.6646 - val_acc: 0.7765\n",
      "Epoch 43/50\n",
      "11872/11872 [==============================] - 0s - loss: 0.5796 - acc: 0.8122 - val_loss: 0.6596 - val_acc: 0.7773\n",
      "Epoch 44/50\n",
      "11872/11872 [==============================] - 0s - loss: 0.5821 - acc: 0.8106 - val_loss: 0.6471 - val_acc: 0.7924\n",
      "Epoch 45/50\n",
      "11872/11872 [==============================] - 0s - loss: 0.5726 - acc: 0.8149 - val_loss: 0.6543 - val_acc: 0.7833\n",
      "Epoch 46/50\n",
      "11872/11872 [==============================] - 0s - loss: 0.5647 - acc: 0.8201 - val_loss: 0.6541 - val_acc: 0.7879\n",
      "Epoch 47/50\n",
      "11872/11872 [==============================] - 0s - loss: 0.5639 - acc: 0.8170 - val_loss: 0.6489 - val_acc: 0.7864\n",
      "Epoch 48/50\n",
      "11872/11872 [==============================] - 0s - loss: 0.5583 - acc: 0.8204 - val_loss: 0.6519 - val_acc: 0.7780\n",
      "Epoch 49/50\n",
      "11872/11872 [==============================] - 0s - loss: 0.5574 - acc: 0.8160 - val_loss: 0.6470 - val_acc: 0.7833\n",
      "Epoch 50/50\n",
      "11872/11872 [==============================] - 0s - loss: 0.5494 - acc: 0.8214 - val_loss: 0.6523 - val_acc: 0.7818\n"
     ]
    }
   ],
   "source": [
    "history = model.fit(Xtrain, Ytrain, batch_size=BATCH_SIZE,\n",
    "                    epochs=NUM_EPOCHS, validation_split=0.1)"
   ]
  },
  {
   "cell_type": "code",
   "execution_count": 14,
   "metadata": {},
   "outputs": [
    {
     "data": {
      "image/png": "[encoded data removed]",
      "text/plain": [
       "<matplotlib.figure.Figure at 0x7f182a6e5f10>"
      ]
     },
     "metadata": {},
     "output_type": "display_data"
    }
   ],
   "source": [
    "plt.subplot(211)\n",
    "plt.title(\"accuracy\")\n",
    "plt.plot(history.history[\"acc\"], color=\"r\", label=\"train\")\n",
    "plt.plot(history.history[\"val_acc\"], color=\"b\", label=\"val\")\n",
    "plt.legend(loc=\"best\")\n",
    "\n",
    "plt.subplot(212)\n",
    "plt.title(\"loss\")\n",
    "plt.plot(history.history[\"loss\"], color=\"r\", label=\"train\")\n",
    "plt.plot(history.history[\"val_loss\"], color=\"b\", label=\"val\")\n",
    "plt.legend(loc=\"best\")\n",
    "\n",
    "plt.tight_layout()\n",
    "plt.show()"
   ]
  },
  {
   "cell_type": "markdown",
   "metadata": {},
   "source": [
    "## Evaluate Network"
   ]
  },
  {
   "cell_type": "code",
   "execution_count": 15,
   "metadata": {},
   "outputs": [
    {
     "name": "stdout",
     "output_type": "stream",
     "text": [
      "accuracy score: 0.789\n",
      "\n",
      "confusion matrix\n",
      "\n",
      "[[156   1   0   0   0   1   2   2   2   1   0   1   0   6   5  30   6   3  19  14]\n",
      " [  2 178  21  14   6  44   2   0   0   1   0   2   4   5   6   0   1   2   1   1]\n",
      " [  0  21 195  33  13  37   0   0   2   2   1   1   3   0   1   0   0   0   0   0]\n",
      " [  1   6  26 205  24   5   9   0   0   0   0   2  14   0   1   0   0   0   0   0]\n",
      " [  0  13   5  47 196   6  11   1   0   0   0   0  22   0   1   0   0   0   0   0]\n",
      " [  0  27   9   4   2 255   0   0   0   0   0   2   1   0   0   0   0   0   1   0]\n",
      " [  1   4   5   9   6   1 244   6   3   0   0   0   3   2   1   0   2   0   1   0]\n",
      " [  0   1   2   0   0   2   4 271  12   0   0   0   9   1   2   0   2   1   1   0]\n",
      " [  0   2   1   0   2   0   3  12 284   0   0   0   1   1   2   0   4   0   5   0]\n",
      " [  0   0   1   0   0   0   1   0   1 280  11   1   1   2   2   2   1   0   2   1]\n",
      " [  1   0   0   0   1   0   1   0   2   5 291   1   0   0   0   0   0   0   1   0]\n",
      " [  1   1   2   0   0   7   0   0   1   0   0 259   7   2   1   0   8   0  14   0]\n",
      " [  0   7   8  17   8   3   4   9   0   0   0   5 205   5   1   0   0   0   4   0]\n",
      " [  0   0   0   0   2   1   0   2   1   0   0   0   3 270   1   1   1   1   4   1]\n",
      " [  1   4   0   1   1   1   1   1   0   0   0   1   2   8 236   1   1   2   9   0]\n",
      " [ 20   1   0   0   0   1   1   0   0   1   0   1   1   4   0 237   1   2   5  13]\n",
      " [  0   0   0   0   0   4   0   2   4   0   0   2   1   0   2   1 217   2  29   1]\n",
      " [  2   0   1   0   1   5   1   0   0   0   0   5   0   1   0   1   1 256  18   1]\n",
      " [  4   1   2   1   0   0   0   2   0   0   0   5   0   3   4   0  23   1 162   0]\n",
      " [ 33   0   0   0   0   0   1   3   4   1   0   1   0   6   1  50  20   1  11  65]]\n"
     ]
    }
   ],
   "source": [
    "np.set_printoptions(linewidth=120)\n",
    "Ytest_ = model.predict(Xtest)\n",
    "ytest_ = np.argmax(Ytest_, axis=1)\n",
    "ytest = np.argmax(Ytest, axis=1)\n",
    "print(\"accuracy score: {:.3f}\".format(accuracy_score(ytest, ytest_)))\n",
    "print(\"\\nconfusion matrix\\n\")\n",
    "print(confusion_matrix(ytest, ytest_))"
   ]
  },
  {
   "cell_type": "code",
   "execution_count": null,
   "metadata": {
    "collapsed": true
   },
   "outputs": [],
   "source": []
  }
 ],
 "metadata": {
  "kernelspec": {
   "display_name": "Python 2",
   "language": "python",
   "name": "python2"
  },
  "language_info": {
   "codemirror_mode": {
    "name": "ipython",
    "version": 2
   },
   "file_extension": ".py",
   "mimetype": "text/x-python",
   "name": "python",
   "nbconvert_exporter": "python",
   "pygments_lexer": "ipython2",
   "version": "2.7.6"
  }
 },
 "nbformat": 4,
 "nbformat_minor": 2
}
