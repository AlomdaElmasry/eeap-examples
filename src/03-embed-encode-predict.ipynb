{
 "cells": [
  {
   "cell_type": "markdown",
   "metadata": {},
   "source": [
    "# Embed, Encode and Predict"
   ]
  },
  {
   "cell_type": "code",
   "execution_count": 1,
   "metadata": {
    "collapsed": false
   },
   "outputs": [
    {
     "name": "stderr",
     "output_type": "stream",
     "text": [
      "Using TensorFlow backend.\n"
     ]
    }
   ],
   "source": [
    "from __future__ import division, print_function\n",
    "from keras.layers import Input\n",
    "from keras.layers.core import Dense, Dropout\n",
    "from keras.layers.embeddings import Embedding\n",
    "from keras.layers.recurrent import GRU\n",
    "from keras.layers.pooling import GlobalMaxPooling1D\n",
    "from keras.layers.wrappers import TimeDistributed, Bidirectional\n",
    "from keras.models import Model\n",
    "from keras.optimizers import SGD\n",
    "from keras.utils import to_categorical\n",
    "from sklearn.datasets import fetch_20newsgroups\n",
    "from sklearn.metrics import accuracy_score, confusion_matrix\n",
    "from sklearn.model_selection import train_test_split\n",
    "import logging\n",
    "import matplotlib.pyplot as plt\n",
    "import nltk\n",
    "import numpy as np\n",
    "import os\n",
    "%matplotlib inline"
   ]
  },
  {
   "cell_type": "code",
   "execution_count": 2,
   "metadata": {
    "collapsed": true
   },
   "outputs": [],
   "source": [
    "DATA_DIR = \"../data\"\n",
    "\n",
    "VOCAB_FILE = os.path.join(DATA_DIR, \"ng-vocab.tsv\")\n",
    "MIN_OCCURS = 5\n",
    "\n",
    "GLOVE_FILE = os.path.join(DATA_DIR, \"glove.840B.300d.txt\")\n",
    "\n",
    "# covers about 95% of input data\n",
    "MAX_SENTS = 40 # maximum number of sentences per document\n",
    "MAX_WORDS = 60 # maximum number of words per sentence\n",
    "\n",
    "WORD_EMBED_SIZE = 300\n",
    "SENT_EMBED_SIZE = 100\n",
    "DOC_EMBED_SIZE = 50\n",
    "NUM_CLASSES = 20\n",
    "\n",
    "BATCH_SIZE = 64\n",
    "NUM_EPOCHS = 10\n",
    "\n",
    "logging.basicConfig()"
   ]
  },
  {
   "cell_type": "markdown",
   "metadata": {
    "collapsed": true
   },
   "source": [
    "## Load Vocabulary"
   ]
  },
  {
   "cell_type": "code",
   "execution_count": 3,
   "metadata": {
    "collapsed": false
   },
   "outputs": [
    {
     "name": "stdout",
     "output_type": "stream",
     "text": [
      "vocab_size: 40730\n"
     ]
    }
   ],
   "source": [
    "word2id = {\"PAD\": 0, \"UNK\": 1}\n",
    "fvocab = open(VOCAB_FILE, \"rb\")\n",
    "for i, line in enumerate(fvocab):\n",
    "    word, count = line.strip().split(\"\\t\")\n",
    "    if int(count) <= MIN_OCCURS:\n",
    "        break\n",
    "    word2id[word] = i\n",
    "fvocab.close()\n",
    "id2word = {v:k for k, v in word2id.items()}\n",
    "vocab_size = len(word2id)\n",
    "print(\"vocab_size: {:d}\".format(vocab_size))"
   ]
  },
  {
   "cell_type": "markdown",
   "metadata": {},
   "source": [
    "## Load GloVe Embeddings"
   ]
  },
  {
   "cell_type": "code",
   "execution_count": 4,
   "metadata": {
    "collapsed": false
   },
   "outputs": [
    {
     "name": "stdout",
     "output_type": "stream",
     "text": [
      "(40730, 300)\n"
     ]
    }
   ],
   "source": [
    "E = np.zeros((vocab_size, WORD_EMBED_SIZE))\n",
    "E[1] = np.random.random(WORD_EMBED_SIZE)\n",
    "fglove = open(GLOVE_FILE, \"rb\")\n",
    "for line in fglove:\n",
    "    cols = line.strip().split(\" \")\n",
    "    word = cols[0]\n",
    "    if not word2id.has_key(word):\n",
    "        continue\n",
    "    vec = np.array([float(x) for x in cols[1:]])\n",
    "    idx = word2id[word]\n",
    "    E[idx] = vec\n",
    "fglove.close()\n",
    "print(E.shape)"
   ]
  },
  {
   "cell_type": "markdown",
   "metadata": {},
   "source": [
    "## Compute Document Vectors"
   ]
  },
  {
   "cell_type": "code",
   "execution_count": 5,
   "metadata": {
    "collapsed": false
   },
   "outputs": [
    {
     "name": "stdout",
     "output_type": "stream",
     "text": [
      "18846\n"
     ]
    }
   ],
   "source": [
    "ng_data = fetch_20newsgroups(subset='all',\n",
    "                             data_home=DATA_DIR,\n",
    "                             shuffle=True, \n",
    "                             random_state=42)\n",
    "num_docs = len(ng_data.data)\n",
    "print(num_docs)"
   ]
  },
  {
   "cell_type": "code",
   "execution_count": 6,
   "metadata": {
    "collapsed": false
   },
   "outputs": [
    {
     "name": "stdout",
     "output_type": "stream",
     "text": [
      "['like', 'a', 'mouse']\n",
      "['PAD', 'The', 'cat', 'fought', 'like', 'a', 'mouse']\n"
     ]
    }
   ],
   "source": [
    "def pad_or_truncate(xs, maxlen):\n",
    "    if len(xs) > maxlen:\n",
    "        xs = xs[len(xs) - maxlen:]\n",
    "    elif len(xs) < maxlen:\n",
    "        xs = [\"PAD\"] * (maxlen - len(xs)) + xs\n",
    "    return xs\n",
    "\n",
    "xs = [\"The\", \"cat\", \"fought\", \"like\", \"a\", \"mouse\"]\n",
    "print(pad_or_truncate(xs, 3))\n",
    "print(pad_or_truncate(xs, 7))"
   ]
  },
  {
   "cell_type": "code",
   "execution_count": 7,
   "metadata": {
    "collapsed": false
   },
   "outputs": [
    {
     "name": "stdout",
     "output_type": "stream",
     "text": [
      "(18846, 40, 60)\n"
     ]
    }
   ],
   "source": [
    "X = np.zeros((num_docs, MAX_SENTS, MAX_WORDS))\n",
    "for docid in range(num_docs):\n",
    "    text = ng_data.data[docid]\n",
    "    sents = pad_or_truncate(nltk.sent_tokenize(text), MAX_SENTS)\n",
    "    for sid, sent in enumerate(sents):\n",
    "        words = nltk.word_tokenize(sent)\n",
    "        words = pad_or_truncate(words, MAX_WORDS)\n",
    "        for wid, word in enumerate(words):\n",
    "            try:\n",
    "                word_id = word2id[word]\n",
    "            except KeyError:\n",
    "                word_id = word2id[\"UNK\"]\n",
    "            X[docid, sid, wid] = word_id\n",
    "print(X.shape)"
   ]
  },
  {
   "cell_type": "code",
   "execution_count": 8,
   "metadata": {
    "collapsed": false
   },
   "outputs": [
    {
     "name": "stdout",
     "output_type": "stream",
     "text": [
      "(18846, 20)\n"
     ]
    }
   ],
   "source": [
    "y = ng_data.target\n",
    "Y = to_categorical(y, num_classes=NUM_CLASSES)\n",
    "print(Y.shape)"
   ]
  },
  {
   "cell_type": "code",
   "execution_count": 9,
   "metadata": {
    "collapsed": false
   },
   "outputs": [
    {
     "name": "stdout",
     "output_type": "stream",
     "text": [
      "(13192, 40, 60) (13192, 20) (5654, 40, 60) (5654, 20)\n"
     ]
    }
   ],
   "source": [
    "Xtrain, Xtest, Ytrain, Ytest = train_test_split(X, Y, train_size=0.7)\n",
    "print(Xtrain.shape, Ytrain.shape, Xtest.shape, Ytest.shape)"
   ]
  },
  {
   "cell_type": "markdown",
   "metadata": {},
   "source": [
    "## Define Network\n",
    "\n",
    "__Note:__ \n",
    "\n",
    "Not initializing the Embedding weights with the GloVe vectors resulted in a slightly worse performance (test set accuracy of 0.806 compared to 0.826 here, and training set accuracy of 0.9954 compared to 0.9950 here). \n",
    "\n",
    "On the other hand, setting the weights and making the embedding layer non-trainable resulted in significantly worse performance, ie, a test set accuracy of 0.643 and training set accuracy of 0.9552 even after 50 epochs of training. One possible reason is that making the embedding layer non-trainable drops the number of trainable parameters from 12,540,970 to 321,970 (about 10x our base embed-predict BoW model with 32,120 parameters)."
   ]
  },
  {
   "cell_type": "code",
   "execution_count": 10,
   "metadata": {
    "collapsed": true
   },
   "outputs": [],
   "source": [
    "inputs = Input(shape=(MAX_SENTS, MAX_WORDS,))\n",
    "\n",
    "emb_words = TimeDistributed(Embedding(input_dim=vocab_size, \n",
    "                                      output_dim=WORD_EMBED_SIZE,\n",
    "                                      weights=[E],\n",
    "                                      mask_zero=True))(inputs)\n",
    "\n",
    "emb_sents = TimeDistributed(Bidirectional(\n",
    "    GRU(SENT_EMBED_SIZE, return_sequences=True)))(emb_words)\n",
    "emb_sents = TimeDistributed(GlobalMaxPooling1D())(emb_sents)\n",
    "\n",
    "emb_docs = Bidirectional(\n",
    "    GRU(DOC_EMBED_SIZE, return_sequences=True))(emb_sents)\n",
    "emb_docs = GlobalMaxPooling1D()(emb_docs)\n",
    "\n",
    "fc1_dropout = Dropout(0.2)(emb_docs)\n",
    "fc1 = Dense(50, activation=\"relu\")(fc1_dropout)\n",
    "fc2_dropout = Dropout(0.2)(fc1)\n",
    "outputs = Dense(NUM_CLASSES, activation=\"softmax\")(fc2_dropout)"
   ]
  },
  {
   "cell_type": "code",
   "execution_count": 11,
   "metadata": {
    "collapsed": true
   },
   "outputs": [],
   "source": [
    "model = Model(inputs=inputs, outputs=outputs)"
   ]
  },
  {
   "cell_type": "code",
   "execution_count": 12,
   "metadata": {
    "collapsed": true
   },
   "outputs": [],
   "source": [
    "model.compile(optimizer=\"adam\", loss=\"categorical_crossentropy\",\n",
    "              metrics=[\"accuracy\"])"
   ]
  },
  {
   "cell_type": "code",
   "execution_count": 13,
   "metadata": {
    "collapsed": false
   },
   "outputs": [
    {
     "name": "stdout",
     "output_type": "stream",
     "text": [
      "_________________________________________________________________\n",
      "Layer (type)                 Output Shape              Param #   \n",
      "=================================================================\n",
      "input_1 (InputLayer)         (None, 40, 60)            0         \n",
      "_________________________________________________________________\n",
      "time_distributed_1 (TimeDist (None, 40, 60, 300)       12219000  \n",
      "_________________________________________________________________\n",
      "time_distributed_2 (TimeDist (None, 40, 60, 200)       240600    \n",
      "_________________________________________________________________\n",
      "time_distributed_3 (TimeDist (None, 40, 200)           0         \n",
      "_________________________________________________________________\n",
      "bidirectional_2 (Bidirection (None, 40, 100)           75300     \n",
      "_________________________________________________________________\n",
      "global_max_pooling1d_2 (Glob (None, 100)               0         \n",
      "_________________________________________________________________\n",
      "dropout_1 (Dropout)          (None, 100)               0         \n",
      "_________________________________________________________________\n",
      "dense_1 (Dense)              (None, 50)                5050      \n",
      "_________________________________________________________________\n",
      "dropout_2 (Dropout)          (None, 50)                0         \n",
      "_________________________________________________________________\n",
      "dense_2 (Dense)              (None, 20)                1020      \n",
      "=================================================================\n",
      "Total params: 12,540,970\n",
      "Trainable params: 12,540,970\n",
      "Non-trainable params: 0\n",
      "_________________________________________________________________\n"
     ]
    }
   ],
   "source": [
    "model.summary()"
   ]
  },
  {
   "cell_type": "code",
   "execution_count": 14,
   "metadata": {
    "collapsed": false
   },
   "outputs": [
    {
     "name": "stdout",
     "output_type": "stream",
     "text": [
      "Train on 11872 samples, validate on 1320 samples\n",
      "Epoch 1/10\n",
      "11872/11872 [==============================] - 135s - loss: 2.8229 - acc: 0.0964 - val_loss: 2.2800 - val_acc: 0.2424\n",
      "Epoch 2/10\n",
      "11872/11872 [==============================] - 132s - loss: 1.5965 - acc: 0.4698 - val_loss: 0.9604 - val_acc: 0.7076\n",
      "Epoch 3/10\n",
      "11872/11872 [==============================] - 132s - loss: 0.6851 - acc: 0.7890 - val_loss: 0.7083 - val_acc: 0.7924\n",
      "Epoch 4/10\n",
      "11872/11872 [==============================] - 133s - loss: 0.3184 - acc: 0.9062 - val_loss: 0.7333 - val_acc: 0.8076\n",
      "Epoch 5/10\n",
      "11872/11872 [==============================] - 132s - loss: 0.1511 - acc: 0.9608 - val_loss: 0.7505 - val_acc: 0.8220\n",
      "Epoch 6/10\n",
      "11872/11872 [==============================] - 132s - loss: 0.0841 - acc: 0.9780 - val_loss: 0.8516 - val_acc: 0.8068\n",
      "Epoch 7/10\n",
      "11872/11872 [==============================] - 132s - loss: 0.0512 - acc: 0.9868 - val_loss: 0.9353 - val_acc: 0.8030\n",
      "Epoch 8/10\n",
      "11872/11872 [==============================] - 132s - loss: 0.0370 - acc: 0.9911 - val_loss: 0.9700 - val_acc: 0.8159\n",
      "Epoch 9/10\n",
      "11872/11872 [==============================] - 132s - loss: 0.0251 - acc: 0.9946 - val_loss: 1.0890 - val_acc: 0.8129\n",
      "Epoch 10/10\n",
      "11872/11872 [==============================] - 133s - loss: 0.0226 - acc: 0.9954 - val_loss: 1.0758 - val_acc: 0.8076\n"
     ]
    }
   ],
   "source": [
    "history = model.fit(Xtrain, Ytrain, batch_size=BATCH_SIZE,\n",
    "                   epochs=NUM_EPOCHS, validation_split=0.1)"
   ]
  },
  {
   "cell_type": "code",
   "execution_count": 15,
   "metadata": {
    "collapsed": false
   },
   "outputs": [
    {
     "data": {
      "image/png": "[encoded data removed]",
      "text/plain": [
       "<matplotlib.figure.Figure at 0x7f39e0639e50>"
      ]
     },
     "metadata": {},
     "output_type": "display_data"
    }
   ],
   "source": [
    "plt.subplot(211)\n",
    "plt.title(\"accuracy\")\n",
    "plt.plot(history.history[\"acc\"], color=\"r\", label=\"train\")\n",
    "plt.plot(history.history[\"val_acc\"], color=\"b\", label=\"val\")\n",
    "plt.legend(loc=\"best\")\n",
    "\n",
    "plt.subplot(212)\n",
    "plt.title(\"loss\")\n",
    "plt.plot(history.history[\"loss\"], color=\"r\", label=\"train\")\n",
    "plt.plot(history.history[\"val_loss\"], color=\"b\", label=\"val\")\n",
    "plt.legend(loc=\"best\")\n",
    "\n",
    "plt.tight_layout()\n",
    "plt.show()"
   ]
  },
  {
   "cell_type": "markdown",
   "metadata": {},
   "source": [
    "## Evaluate Network"
   ]
  },
  {
   "cell_type": "code",
   "execution_count": 16,
   "metadata": {
    "collapsed": false
   },
   "outputs": [
    {
     "name": "stdout",
     "output_type": "stream",
     "text": [
      "accuracy score: 0.826\n",
      "\n",
      "confusion matrix\n",
      "\n",
      "[[200   2   0   0   0   0   0   0   2   2   0   0   0   0   0  14   2   0\n",
      "    9   9]\n",
      " [  0 205  17  14   7  17   7   3   3   0   0   0   5   4   4   0   1   0\n",
      "    2   1]\n",
      " [  0   8 222  20  10  12   2   3   1   0   0   0   3   4   0   1   0   0\n",
      "    1   0]\n",
      " [  1  10  16 221  21   7  10   0   0   0   0   2  12   0   1   0   0   0\n",
      "    1   0]\n",
      " [  0   6   7  20 220  10   5   4   2   0   0   1  11   5   4   0   0   0\n",
      "    3   2]\n",
      " [  0  12   9   4   6 255   2   0   2   0   1   0   2   4   1   0   0   0\n",
      "    0   0]\n",
      " [  0   5   7  17  10   3 202   5   8   2   1   1  10   5   0   0   1   1\n",
      "    1   1]\n",
      " [  0   0   1   1   4   4   7 237  15   0   0   2   2   2   3   0   2   0\n",
      "    5   0]\n",
      " [  0   0   0   1   1   4   6   1 284   2   0   2   1   2   0   0   0   0\n",
      "    1   0]\n",
      " [  2   4   0   0   1   0   4   9   1 254  14   0   1   0   0   0   1   3\n",
      "    2   3]\n",
      " [  0   2   0   0   0   0   3   1   0  21 261   1   0   1   5   1   2   0\n",
      "    0   2]\n",
      " [  0   0   0   0   2   2   0   2   0   0   0 287   2   2   0   0   1   0\n",
      "    2   1]\n",
      " [  0   3   2   9  11   4   4   7   3   2   0   3 226   0   9   0   0   0\n",
      "    0   0]\n",
      " [  0   2   3   0   0   2   0   1   0   1   0   2   5 264   2   3   1   0\n",
      "    7   0]\n",
      " [  0   5   0   0   1   1   2   3   0   0   0   5   3   3 269   1   4   1\n",
      "    2   1]\n",
      " [  2   1   1   0   1   1   0   1   0   1   0   0   0   5   0 255   0   1\n",
      "    2  17]\n",
      " [  1   1   1   0   0   2   0   6   1   2   0   8   0   0   3   2 255   3\n",
      "   14   5]\n",
      " [  0   0   0   0   0   2   0   0   0   1   1   0   0   4   1   0   2 250\n",
      "    7   4]\n",
      " [  1   0   0   0   0   0   1   2   2   0   1   3   1   8   1   1   6   2\n",
      "  188   7]\n",
      " [ 21   0   0   0   0   0   0   1   4   1   1   1   1   7   1  18   6   7\n",
      "   16 117]]\n"
     ]
    }
   ],
   "source": [
    "Ytest_ = model.predict(Xtest)\n",
    "ytest_ = np.argmax(Ytest_, axis=1)\n",
    "ytest = np.argmax(Ytest, axis=1)\n",
    "print(\"accuracy score: {:.3f}\".format(accuracy_score(ytest, ytest_)))\n",
    "print(\"\\nconfusion matrix\\n\")\n",
    "print(confusion_matrix(ytest, ytest_))"
   ]
  },
  {
   "cell_type": "code",
   "execution_count": null,
   "metadata": {
    "collapsed": true
   },
   "outputs": [],
   "source": []
  }
 ],
 "metadata": {
  "kernelspec": {
   "display_name": "Python [default]",
   "language": "python",
   "name": "python2"
  },
  "language_info": {
   "codemirror_mode": {
    "name": "ipython",
    "version": 2
   },
   "file_extension": ".py",
   "mimetype": "text/x-python",
   "name": "python",
   "nbconvert_exporter": "python",
   "pygments_lexer": "ipython2",
   "version": "2.7.12"
  }
 },
 "nbformat": 4,
 "nbformat_minor": 2
}
