{
 "cells": [
  {
   "cell_type": "markdown",
   "metadata": {},
   "source": [
    "# Embed, Encode and Predict"
   ]
  },
  {
   "cell_type": "code",
   "execution_count": 1,
   "metadata": {
    "collapsed": false
   },
   "outputs": [
    {
     "name": "stderr",
     "output_type": "stream",
     "text": [
      "Using TensorFlow backend.\n"
     ]
    }
   ],
   "source": [
    "from __future__ import division, print_function\n",
    "from keras.layers import Input\n",
    "from keras.layers.core import Dense, Dropout\n",
    "from keras.layers.embeddings import Embedding\n",
    "from keras.layers.recurrent import GRU\n",
    "from keras.layers.pooling import GlobalMaxPooling1D\n",
    "from keras.layers.wrappers import TimeDistributed, Bidirectional\n",
    "from keras.models import Model\n",
    "from keras.optimizers import SGD\n",
    "from keras.utils import to_categorical\n",
    "from sklearn.datasets import fetch_20newsgroups\n",
    "from sklearn.metrics import accuracy_score, confusion_matrix\n",
    "from sklearn.model_selection import train_test_split\n",
    "import logging\n",
    "import matplotlib.pyplot as plt\n",
    "import nltk\n",
    "import numpy as np\n",
    "import os\n",
    "%matplotlib inline"
   ]
  },
  {
   "cell_type": "code",
   "execution_count": 2,
   "metadata": {
    "collapsed": true
   },
   "outputs": [],
   "source": [
    "DATA_DIR = \"../data\"\n",
    "\n",
    "VOCAB_FILE = os.path.join(DATA_DIR, \"ng-vocab.tsv\")\n",
    "MIN_OCCURS = 5\n",
    "\n",
    "GLOVE_FILE = os.path.join(DATA_DIR, \"glove.840B.300d.txt\")\n",
    "\n",
    "# covers about 95% of input data\n",
    "MAX_SENTS = 40 # maximum number of sentences per document\n",
    "MAX_WORDS = 60 # maximum number of words per sentence\n",
    "\n",
    "WORD_EMBED_SIZE = 300\n",
    "SENT_EMBED_SIZE = 100\n",
    "DOC_EMBED_SIZE = 50\n",
    "NUM_CLASSES = 20\n",
    "\n",
    "BATCH_SIZE = 64\n",
    "NUM_EPOCHS = 10\n",
    "\n",
    "logging.basicConfig()"
   ]
  },
  {
   "cell_type": "markdown",
   "metadata": {
    "collapsed": true
   },
   "source": [
    "## Load Vocabulary"
   ]
  },
  {
   "cell_type": "code",
   "execution_count": 3,
   "metadata": {
    "collapsed": false
   },
   "outputs": [
    {
     "name": "stdout",
     "output_type": "stream",
     "text": [
      "vocab_size: 40730\n"
     ]
    }
   ],
   "source": [
    "word2id = {\"PAD\": 0, \"UNK\": 1}\n",
    "fvocab = open(VOCAB_FILE, \"rb\")\n",
    "for i, line in enumerate(fvocab):\n",
    "    word, count = line.strip().split(\"\\t\")\n",
    "    if int(count) <= MIN_OCCURS:\n",
    "        break\n",
    "    word2id[word] = i\n",
    "fvocab.close()\n",
    "id2word = {v:k for k, v in word2id.items()}\n",
    "vocab_size = len(word2id)\n",
    "print(\"vocab_size: {:d}\".format(vocab_size))"
   ]
  },
  {
   "cell_type": "markdown",
   "metadata": {},
   "source": [
    "## Load GloVe Embeddings"
   ]
  },
  {
   "cell_type": "code",
   "execution_count": 4,
   "metadata": {
    "collapsed": false
   },
   "outputs": [
    {
     "name": "stdout",
     "output_type": "stream",
     "text": [
      "(40730, 300)\n"
     ]
    }
   ],
   "source": [
    "E = np.zeros((vocab_size, WORD_EMBED_SIZE))\n",
    "E[1] = np.random.random(WORD_EMBED_SIZE)\n",
    "fglove = open(GLOVE_FILE, \"rb\")\n",
    "for line in fglove:\n",
    "    cols = line.strip().split(\" \")\n",
    "    word = cols[0]\n",
    "    if not word2id.has_key(word):\n",
    "        continue\n",
    "    vec = np.array([float(x) for x in cols[1:]])\n",
    "    idx = word2id[word]\n",
    "    E[idx] = vec\n",
    "fglove.close()\n",
    "print(E.shape)"
   ]
  },
  {
   "cell_type": "markdown",
   "metadata": {},
   "source": [
    "## Compute Document Vectors"
   ]
  },
  {
   "cell_type": "code",
   "execution_count": 5,
   "metadata": {
    "collapsed": false
   },
   "outputs": [
    {
     "name": "stdout",
     "output_type": "stream",
     "text": [
      "18846\n"
     ]
    }
   ],
   "source": [
    "ng_data = fetch_20newsgroups(subset='all',\n",
    "                             data_home=DATA_DIR,\n",
    "                             shuffle=True, \n",
    "                             random_state=42)\n",
    "num_docs = len(ng_data.data)\n",
    "print(num_docs)"
   ]
  },
  {
   "cell_type": "code",
   "execution_count": 6,
   "metadata": {
    "collapsed": false
   },
   "outputs": [
    {
     "name": "stdout",
     "output_type": "stream",
     "text": [
      "['like', 'a', 'mouse']\n",
      "['PAD', 'The', 'cat', 'fought', 'like', 'a', 'mouse']\n"
     ]
    }
   ],
   "source": [
    "def pad_or_truncate(xs, maxlen):\n",
    "    if len(xs) > maxlen:\n",
    "        xs = xs[len(xs) - maxlen:]\n",
    "    elif len(xs) < maxlen:\n",
    "        xs = [\"PAD\"] * (maxlen - len(xs)) + xs\n",
    "    return xs\n",
    "\n",
    "xs = [\"The\", \"cat\", \"fought\", \"like\", \"a\", \"mouse\"]\n",
    "print(pad_or_truncate(xs, 3))\n",
    "print(pad_or_truncate(xs, 7))"
   ]
  },
  {
   "cell_type": "code",
   "execution_count": 7,
   "metadata": {
    "collapsed": false
   },
   "outputs": [
    {
     "name": "stdout",
     "output_type": "stream",
     "text": [
      "(18846, 40, 60)\n"
     ]
    }
   ],
   "source": [
    "X = np.zeros((num_docs, MAX_SENTS, MAX_WORDS))\n",
    "for docid in range(num_docs):\n",
    "    text = ng_data.data[docid]\n",
    "    sents = pad_or_truncate(nltk.sent_tokenize(text), MAX_SENTS)\n",
    "    for sid, sent in enumerate(sents):\n",
    "        words = nltk.word_tokenize(sent)\n",
    "        words = pad_or_truncate(words, MAX_WORDS)\n",
    "        for wid, word in enumerate(words):\n",
    "            try:\n",
    "                word_id = word2id[word]\n",
    "            except KeyError:\n",
    "                word_id = word2id[\"UNK\"]\n",
    "            X[docid, sid, wid] = word_id\n",
    "print(X.shape)"
   ]
  },
  {
   "cell_type": "code",
   "execution_count": 8,
   "metadata": {
    "collapsed": false
   },
   "outputs": [
    {
     "name": "stdout",
     "output_type": "stream",
     "text": [
      "(18846, 20)\n"
     ]
    }
   ],
   "source": [
    "y = ng_data.target\n",
    "Y = to_categorical(y, num_classes=NUM_CLASSES)\n",
    "print(Y.shape)"
   ]
  },
  {
   "cell_type": "code",
   "execution_count": 9,
   "metadata": {
    "collapsed": false
   },
   "outputs": [
    {
     "name": "stdout",
     "output_type": "stream",
     "text": [
      "(13192, 40, 60) (13192, 20) (5654, 40, 60) (5654, 20)\n"
     ]
    }
   ],
   "source": [
    "Xtrain, Xtest, Ytrain, Ytest = train_test_split(X, Y, train_size=0.7)\n",
    "print(Xtrain.shape, Ytrain.shape, Xtest.shape, Ytest.shape)"
   ]
  },
  {
   "cell_type": "markdown",
   "metadata": {},
   "source": [
    "## Define Network\n",
    "\n",
    "__Note:__ \n",
    "\n",
    "Setting the embedding weights and making the layer trainable (so backprop can update the weights) results in much better performance (0.788 accuracy on test set, 0.9831 on training set) than making the layer non-trainable (0.706 accuracy on test set, 0.7827 on training set). One possible reason is that making the embedding layer non-trainable drops the number of trainable parameters from 12,540,970 to 321,970 (about 10x our base embed-predict BoW model with 32,120 parameters)."
   ]
  },
  {
   "cell_type": "code",
   "execution_count": 10,
   "metadata": {
    "collapsed": false
   },
   "outputs": [
    {
     "name": "stdout",
     "output_type": "stream",
     "text": [
      "_________________________________________________________________\n",
      "Layer (type)                 Output Shape              Param #   \n",
      "=================================================================\n",
      "input_1 (InputLayer)         (None, 60)                0         \n",
      "_________________________________________________________________\n",
      "embedding_1 (Embedding)      (None, 60, 300)           12219000  \n",
      "_________________________________________________________________\n",
      "bidirectional_1 (Bidirection (None, 200)               240600    \n",
      "=================================================================\n",
      "Total params: 12,459,600\n",
      "Trainable params: 12,459,600\n",
      "Non-trainable params: 0\n",
      "_________________________________________________________________\n"
     ]
    }
   ],
   "source": [
    "sent_inputs = Input(shape=(MAX_WORDS,), dtype=\"int32\")\n",
    "sent_emb = Embedding(input_dim=vocab_size,\n",
    "                     output_dim=WORD_EMBED_SIZE,\n",
    "                     weights=[E])(sent_inputs)\n",
    "sent_enc = Bidirectional(GRU(SENT_EMBED_SIZE))(sent_emb)\n",
    "\n",
    "sent_encoder = Model(inputs=sent_inputs, outputs=sent_enc)\n",
    "sent_encoder.summary()"
   ]
  },
  {
   "cell_type": "code",
   "execution_count": 11,
   "metadata": {
    "collapsed": false
   },
   "outputs": [
    {
     "name": "stdout",
     "output_type": "stream",
     "text": [
      "_________________________________________________________________\n",
      "Layer (type)                 Output Shape              Param #   \n",
      "=================================================================\n",
      "input_2 (InputLayer)         (None, 40, 60)            0         \n",
      "_________________________________________________________________\n",
      "time_distributed_1 (TimeDist (None, 40, 200)           12459600  \n",
      "_________________________________________________________________\n",
      "bidirectional_2 (Bidirection (None, 100)               75300     \n",
      "_________________________________________________________________\n",
      "dropout_1 (Dropout)          (None, 100)               0         \n",
      "_________________________________________________________________\n",
      "dense_1 (Dense)              (None, 50)                5050      \n",
      "_________________________________________________________________\n",
      "dropout_2 (Dropout)          (None, 50)                0         \n",
      "_________________________________________________________________\n",
      "dense_2 (Dense)              (None, 20)                1020      \n",
      "=================================================================\n",
      "Total params: 12,540,970\n",
      "Trainable params: 12,540,970\n",
      "Non-trainable params: 0\n",
      "_________________________________________________________________\n"
     ]
    }
   ],
   "source": [
    "doc_inputs = Input(shape=(MAX_SENTS, MAX_WORDS), dtype=\"int32\")\n",
    "doc_emb = TimeDistributed(sent_encoder)(doc_inputs)\n",
    "doc_enc = Bidirectional(GRU(DOC_EMBED_SIZE))(doc_emb)\n",
    "\n",
    "fc1_dropout = Dropout(0.2)(doc_enc)\n",
    "fc1 = Dense(50, activation=\"relu\")(fc1_dropout)\n",
    "fc2_dropout = Dropout(0.2)(fc1)\n",
    "outputs = Dense(NUM_CLASSES, activation=\"softmax\")(fc2_dropout)\n",
    "\n",
    "model = Model(inputs=doc_inputs, outputs=outputs)\n",
    "model.summary()"
   ]
  },
  {
   "cell_type": "code",
   "execution_count": 12,
   "metadata": {
    "collapsed": true
   },
   "outputs": [],
   "source": [
    "model.compile(optimizer=\"adam\", loss=\"categorical_crossentropy\",\n",
    "              metrics=[\"accuracy\"])"
   ]
  },
  {
   "cell_type": "code",
   "execution_count": 13,
   "metadata": {
    "collapsed": false
   },
   "outputs": [
    {
     "name": "stdout",
     "output_type": "stream",
     "text": [
      "Train on 11872 samples, validate on 1320 samples\n",
      "Epoch 1/10\n",
      "11872/11872 [==============================] - 125s - loss: 2.9173 - acc: 0.0804 - val_loss: 2.5987 - val_acc: 0.1455\n",
      "Epoch 2/10\n",
      "11872/11872 [==============================] - 122s - loss: 2.4068 - acc: 0.1848 - val_loss: 1.9764 - val_acc: 0.3129\n",
      "Epoch 3/10\n",
      "11872/11872 [==============================] - 122s - loss: 1.6189 - acc: 0.4159 - val_loss: 1.3189 - val_acc: 0.5515\n",
      "Epoch 4/10\n",
      "11872/11872 [==============================] - 122s - loss: 0.9676 - acc: 0.6524 - val_loss: 1.0196 - val_acc: 0.6818\n",
      "Epoch 5/10\n",
      "11872/11872 [==============================] - 121s - loss: 0.5933 - acc: 0.8019 - val_loss: 0.9317 - val_acc: 0.7280\n",
      "Epoch 6/10\n",
      "11872/11872 [==============================] - 121s - loss: 0.3506 - acc: 0.8913 - val_loss: 0.9881 - val_acc: 0.7394\n",
      "Epoch 7/10\n",
      "11872/11872 [==============================] - 122s - loss: 0.2143 - acc: 0.9395 - val_loss: 1.0222 - val_acc: 0.7508\n",
      "Epoch 8/10\n",
      "11872/11872 [==============================] - 122s - loss: 0.1332 - acc: 0.9644 - val_loss: 1.0518 - val_acc: 0.7545\n",
      "Epoch 9/10\n",
      "11872/11872 [==============================] - 122s - loss: 0.0852 - acc: 0.9794 - val_loss: 1.1721 - val_acc: 0.7705\n",
      "Epoch 10/10\n",
      "11872/11872 [==============================] - 121s - loss: 0.0662 - acc: 0.9831 - val_loss: 1.1487 - val_acc: 0.7826\n"
     ]
    }
   ],
   "source": [
    "history = model.fit(Xtrain, Ytrain, batch_size=BATCH_SIZE,\n",
    "                   epochs=NUM_EPOCHS, validation_split=0.1)"
   ]
  },
  {
   "cell_type": "code",
   "execution_count": 14,
   "metadata": {
    "collapsed": false
   },
   "outputs": [
    {
     "data": {
      "image/png": "[encoded data removed]",
      "text/plain": [
       "<matplotlib.figure.Figure at 0x7ff31426ec50>"
      ]
     },
     "metadata": {},
     "output_type": "display_data"
    }
   ],
   "source": [
    "plt.subplot(211)\n",
    "plt.title(\"accuracy\")\n",
    "plt.plot(history.history[\"acc\"], color=\"r\", label=\"train\")\n",
    "plt.plot(history.history[\"val_acc\"], color=\"b\", label=\"val\")\n",
    "plt.legend(loc=\"best\")\n",
    "\n",
    "plt.subplot(212)\n",
    "plt.title(\"loss\")\n",
    "plt.plot(history.history[\"loss\"], color=\"r\", label=\"train\")\n",
    "plt.plot(history.history[\"val_loss\"], color=\"b\", label=\"val\")\n",
    "plt.legend(loc=\"best\")\n",
    "\n",
    "plt.tight_layout()\n",
    "plt.show()"
   ]
  },
  {
   "cell_type": "markdown",
   "metadata": {},
   "source": [
    "## Evaluate Network"
   ]
  },
  {
   "cell_type": "code",
   "execution_count": 15,
   "metadata": {
    "collapsed": false
   },
   "outputs": [
    {
     "name": "stdout",
     "output_type": "stream",
     "text": [
      "accuracy score: 0.788\n",
      "\n",
      "confusion matrix\n",
      "\n",
      "[[196   1   0   0   0   1   0   0   1   4   0   0   1   1   0   4   2   1\n",
      "    5  24]\n",
      " [  0 227  16   5  14  31   2   0   0   1   0   2   5   5   5   0   0   2\n",
      "    0   1]\n",
      " [  0   9 213  30  12  21   3   0   0   1   1   1   0   0   2   1   0   0\n",
      "    1   0]\n",
      " [  0   3  21 199  30   4  10   6   0   0   0   2  13   1   0   0   0   0\n",
      "    0   0]\n",
      " [  0  11  23  30 191   3   6   3   0   0   1   2   9   0   0   0   0   1\n",
      "    1   0]\n",
      " [  1  29  28   6   3 229   4   0   0   2   0   0   1   0   0   0   0   0\n",
      "    0   0]\n",
      " [  1   6  11  13   8   6 182  18   3   1   6   1   4   0   6   0   0   1\n",
      "    0   1]\n",
      " [  0   0   1   6   1   1  11 234   9   1   2   0  13   0   0   0   5   0\n",
      "    0   0]\n",
      " [  0   0   0   0   1   0   2  22 249   0   0   0   9   1   2   0   5   0\n",
      "    6   1]\n",
      " [  4   0   1   0   0   0   3   3   2 233  10   0   0   0   5   0   0   1\n",
      "    3   3]\n",
      " [  0   1   3   0   1   0   3   1   2  24 247   0   0   0   0   0   0   0\n",
      "    2   0]\n",
      " [  0   0   2   1   9   0   0   2   1   0   0 262   2   4   1   0  11   0\n",
      "    8   1]\n",
      " [  0   4   6  14  29   4   4  15   1   1   1   2 233   0   3   0   1   0\n",
      "    0   0]\n",
      " [  0  11   2   0   1   0   1   1   1   1   0   1   2 276   6   0   1   0\n",
      "    1   1]\n",
      " [  1   7   1   0   0   3   0   2   2   2   0   0   8   4 274   0   7   3\n",
      "    3   0]\n",
      " [ 11   1   0   0   0   0   1   0   0   1   0   1   3   6   0 236   0   7\n",
      "    1  22]\n",
      " [  0   0   0   0   0   0   1   1   0   0   0   4   2   0   1   0 255   1\n",
      "   14   6]\n",
      " [  0   1   0   1   0   0   1   0   0   1   0   1   0   2   2   1  19 230\n",
      "    7   8]\n",
      " [  1   0   0   0   0   0   1   1   5   3   0   7   1   2   6   0  31   4\n",
      "  182   9]\n",
      " [ 12   1   0   1   1   2   1   0   1   3   0   1   1   1   3  17  12   6\n",
      "   10 107]]\n"
     ]
    }
   ],
   "source": [
    "np.set_printoptions(linewidth=120)\n",
    "Ytest_ = model.predict(Xtest)\n",
    "ytest_ = np.argmax(Ytest_, axis=1)\n",
    "ytest = np.argmax(Ytest, axis=1)\n",
    "print(\"accuracy score: {:.3f}\".format(accuracy_score(ytest, ytest_)))\n",
    "print(\"\\nconfusion matrix\\n\")\n",
    "print(confusion_matrix(ytest, ytest_))"
   ]
  },
  {
   "cell_type": "code",
   "execution_count": null,
   "metadata": {
    "collapsed": true
   },
   "outputs": [],
   "source": []
  }
 ],
 "metadata": {
  "anaconda-cloud": {},
  "kernelspec": {
   "display_name": "Python 2",
   "language": "python",
   "name": "python2"
  },
  "language_info": {
   "codemirror_mode": {
    "name": "ipython",
    "version": 2
   },
   "file_extension": ".py",
   "mimetype": "text/x-python",
   "name": "python",
   "nbconvert_exporter": "python",
   "pygments_lexer": "ipython2",
   "version": "2.7.13"
  }
 },
 "nbformat": 4,
 "nbformat_minor": 2
}
