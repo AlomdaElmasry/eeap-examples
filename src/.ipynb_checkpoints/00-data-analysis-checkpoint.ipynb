{
 "cells": [
  {
   "cell_type": "markdown",
   "metadata": {},
   "source": [
    "# Data Analysis\n",
    "\n",
    "The [parse-reuters](TODO) script converts the SGML files from the [Reuters-21578 dataset](https://archive.ics.uci.edu/ml/datasets/Reuters-21578+Text+Categorization+Collection) into the following set of tab separated (TSV) files.\n",
    "\n",
    "* rt-vocab.tsv -- term and frequency in corpus.\n",
    "* rt-text.tsv -- document-id, text, tab separated.\n",
    "* rt-sent.tsv -- document-id, sentence-id, sentence.\n",
    "* rt-tags.tsv -- document-id, comma-separated list of tags.\n",
    "\n",
    "This notebook reads these files and produces distributions of sentence and document lengths, from which we determine thresholds for our network."
   ]
  },
  {
   "cell_type": "code",
   "execution_count": 1,
   "metadata": {
    "collapsed": true
   },
   "outputs": [],
   "source": [
    "from __future__ import division, print_function\n",
    "import matplotlib.pyplot as plt\n",
    "import numpy as np\n",
    "import nltk\n",
    "import os\n",
    "%matplotlib inline"
   ]
  },
  {
   "cell_type": "code",
   "execution_count": 2,
   "metadata": {
    "collapsed": true
   },
   "outputs": [],
   "source": [
    "DATA_DIR = \"../data\"\n",
    "VOCAB_FILE = os.path.join(DATA_DIR, \"rt-vocab.tsv\")\n",
    "TEXT_FILE = os.path.join(DATA_DIR, \"rt-text.tsv\")\n",
    "SENT_FILE = os.path.join(DATA_DIR, \"rt-sent.tsv\")\n",
    "TAGS_FILE = os.path.join(DATA_DIR, \"rt-tags.tsv\")\n",
    "\n",
    "SIMILARITY_FILE = os.path.join(DATA_DIR, \"rt-sims.tsv\")"
   ]
  },
  {
   "cell_type": "markdown",
   "metadata": {},
   "source": [
    "## Word Counts"
   ]
  },
  {
   "cell_type": "code",
   "execution_count": 3,
   "metadata": {
    "collapsed": true
   },
   "outputs": [],
   "source": [
    "counts = []\n",
    "fvocab = open(VOCAB_FILE, \"rb\")\n",
    "for line in fvocab:\n",
    "    _, count = line.strip().split(\"\\t\")\n",
    "    count = int(count)\n",
    "#     if count > 100:\n",
    "#         continue\n",
    "    counts.append(count)\n",
    "fvocab.close()"
   ]
  },
  {
   "cell_type": "code",
   "execution_count": 4,
   "metadata": {
    "collapsed": false
   },
   "outputs": [
    {
     "data": {
      "image/png": "[encoded data removed]",
      "text/plain": [
       "<matplotlib.figure.Figure at 0x11582b350>"
      ]
     },
     "metadata": {},
     "output_type": "display_data"
    }
   ],
   "source": [
    "plt.plot(np.arange(len(counts)), counts)\n",
    "plt.xlabel(\"words\")\n",
    "plt.ylabel(\"counts\")\n",
    "plt.show()"
   ]
  },
  {
   "cell_type": "markdown",
   "metadata": {},
   "source": [
    "As expected, our word frequencies show the typical Zipf distribution. We cannot gain much intuition about the frequency below which to replace the word, but we will follow the [Hierarchical Attention Networks for Document Classification (PDF)](https://www.cs.cmu.edu/~hovy/papers/16HLT-hierarchical-attention-networks.pdf) paper by Yang, et al, and set our word count threshold to replace any word that occurs 5 times or less with UNK."
   ]
  },
  {
   "cell_type": "markdown",
   "metadata": {},
   "source": [
    "## Document Length Distribution\n",
    "\n",
    "We calculate the document length (in terms of number of sentences) for the documents in our corpus."
   ]
  },
  {
   "cell_type": "code",
   "execution_count": 5,
   "metadata": {
    "collapsed": true
   },
   "outputs": [],
   "source": [
    "doclens = []\n",
    "ftext = open(TEXT_FILE, \"rb\")\n",
    "for line in ftext:\n",
    "    _, text = line.strip().split(\"\\t\")\n",
    "    num_sents = 0\n",
    "    for sent in nltk.sent_tokenize(text):\n",
    "        num_sents += 1\n",
    "    doclens.append(num_sents)\n",
    "ftext.close()"
   ]
  },
  {
   "cell_type": "code",
   "execution_count": 6,
   "metadata": {
    "collapsed": false
   },
   "outputs": [
    {
     "data": {
      "image/png": "[encoded data removed]",
      "text/plain": [
       "<matplotlib.figure.Figure at 0x115c17690>"
      ]
     },
     "metadata": {},
     "output_type": "display_data"
    }
   ],
   "source": [
    "plt.hist(doclens, bins=10)\n",
    "plt.xlabel(\"doc lengths (#-sentences)\")\n",
    "plt.ylabel(\"counts\")\n",
    "plt.show()"
   ]
  },
  {
   "cell_type": "code",
   "execution_count": 7,
   "metadata": {
    "collapsed": false
   },
   "outputs": [
    {
     "name": "stdout",
     "output_type": "stream",
     "text": [
      "90 percentile: 13.000\n",
      "91 percentile: 14.000\n",
      "92 percentile: 14.800\n",
      "93 percentile: 16.000\n",
      "94 percentile: 17.000\n",
      "95 percentile: 18.000\n",
      "96 percentile: 20.000\n",
      "97 percentile: 22.000\n",
      "98 percentile: 25.000\n",
      "99 percentile: 30.000\n"
     ]
    }
   ],
   "source": [
    "doclens_array = np.array(doclens)\n",
    "for i in range(90, 100):\n",
    "    print(\"{:d} percentile: {:.3f}\".format(\n",
    "        i, np.percentile(doclens_array, i)))"
   ]
  },
  {
   "cell_type": "markdown",
   "metadata": {},
   "source": [
    "So if we set a threshold of 20 sentences per document we will cover 96% of the text, and if we set threshold of 30 sentences per document we will cover 99% of the documents."
   ]
  },
  {
   "cell_type": "markdown",
   "metadata": {},
   "source": [
    "## Sentence Length Distribution\n",
    "\n",
    "Calculating the distribution of sentence length (in number of words) for sentences in our distribution."
   ]
  },
  {
   "cell_type": "code",
   "execution_count": 8,
   "metadata": {
    "collapsed": true
   },
   "outputs": [],
   "source": [
    "sentlens = []\n",
    "fsent = open(SENT_FILE, \"rb\")\n",
    "for line in fsent:\n",
    "    _, _, sent = line.strip().split(\"\\t\")\n",
    "    num_words = 0\n",
    "    for word in nltk.word_tokenize(sent):\n",
    "        num_words += 1\n",
    "    sentlens.append(num_words)\n",
    "fsent.close()"
   ]
  },
  {
   "cell_type": "code",
   "execution_count": 9,
   "metadata": {
    "collapsed": false
   },
   "outputs": [
    {
     "data": {
      "image/png": "[encoded data removed]",
      "text/plain": [
       "<matplotlib.figure.Figure at 0x116264350>"
      ]
     },
     "metadata": {},
     "output_type": "display_data"
    }
   ],
   "source": [
    "plt.hist(sentlens, bins=10)\n",
    "plt.xlabel(\"sentence lengths (words)\")\n",
    "plt.ylabel(\"counts\")\n",
    "plt.show()"
   ]
  },
  {
   "cell_type": "code",
   "execution_count": 10,
   "metadata": {
    "collapsed": false
   },
   "outputs": [
    {
     "name": "stdout",
     "output_type": "stream",
     "text": [
      "90 percentile: 41.000\n",
      "91 percentile: 42.000\n",
      "92 percentile: 43.000\n",
      "93 percentile: 44.000\n",
      "94 percentile: 45.000\n",
      "95 percentile: 47.000\n",
      "96 percentile: 50.000\n",
      "97 percentile: 53.000\n",
      "98 percentile: 59.000\n",
      "99 percentile: 69.000\n"
     ]
    }
   ],
   "source": [
    "sentlens_array = np.array(sentlens)\n",
    "for i in range(90, 100):\n",
    "    print(\"{:d} percentile: {:.3f}\".format(\n",
    "        i, np.percentile(sentlens_array, i)))"
   ]
  },
  {
   "cell_type": "markdown",
   "metadata": {},
   "source": [
    "Setting a sentence length threshold of 50 words should work for 96% of the sentences in this corpus."
   ]
  },
  {
   "cell_type": "markdown",
   "metadata": {
    "collapsed": true
   },
   "source": [
    "## Similarity Threshold\n",
    "\n",
    "Estimate threshold of tag similarity to consider a pair of documents similar.\n",
    "\n",
    "Also since computing the Jaccard similarities between tags is a relatively expensive process, we will save the computed data to a file for later use."
   ]
  },
  {
   "cell_type": "code",
   "execution_count": 11,
   "metadata": {
    "collapsed": false
   },
   "outputs": [],
   "source": [
    "tagset_list = []\n",
    "ftag = open(TAGS_FILE, \"rb\")\n",
    "for line in ftag:\n",
    "    _, taglist = line.strip().split(\"\\t\")\n",
    "    tagset = set()\n",
    "    for tag in taglist.split(\",\"):\n",
    "        tagset.add(tag)\n",
    "    tagset_list.append(tagset)\n",
    "ftag.close()"
   ]
  },
  {
   "cell_type": "code",
   "execution_count": 12,
   "metadata": {
    "collapsed": false
   },
   "outputs": [],
   "source": [
    "def jaccard(a, b):\n",
    "    return len(a.intersection(b)) / len(a.union(b))\n",
    "\n",
    "fsims = open(SIMILARITY_FILE, \"wb\")\n",
    "S = np.zeros((len(tagset_list), len(tagset_list)))\n",
    "for i, tagset_a in enumerate(tagset_list):\n",
    "    for j, tagset_b in enumerate(tagset_list):\n",
    "        if i == j:\n",
    "            S[i, j] = 1.0\n",
    "            fsims.write(\"{:d}\\t{:d}\\t{:.5f}\\n\".format(i, j, S[i, j]))\n",
    "            continue\n",
    "        if i < j:\n",
    "            S[i, j] = jaccard(tagset_a, tagset_b)\n",
    "            S[j, i] = S[i, j]\n",
    "            fsims.write(\"{:d}\\t{:d}\\t{:.5f}\\n\".format(i, j, S[i, j]))\n",
    "            fsims.write(\"{:d}\\t{:d}\\t{:.5f}\\n\".format(j, i, S[j, i]))\n",
    "\n",
    "fsims.close()"
   ]
  },
  {
   "cell_type": "code",
   "execution_count": 13,
   "metadata": {
    "collapsed": false
   },
   "outputs": [
    {
     "data": {
      "image/png": "[encoded data removed]",
      "text/plain": [
       "<matplotlib.figure.Figure at 0x1167fd2d0>"
      ]
     },
     "metadata": {},
     "output_type": "display_data"
    }
   ],
   "source": [
    "sims = np.ravel(S)\n",
    "plt.hist(sims, bins=10)\n",
    "plt.xlabel(\"jaccard similarity\")\n",
    "plt.ylabel(\"counts\")\n",
    "plt.show()"
   ]
  },
  {
   "cell_type": "code",
   "execution_count": 14,
   "metadata": {
    "collapsed": false
   },
   "outputs": [
    {
     "name": "stdout",
     "output_type": "stream",
     "text": [
      "0.2\n"
     ]
    }
   ],
   "source": [
    "print(np.percentile(sims, 60))"
   ]
  },
  {
   "cell_type": "markdown",
   "metadata": {},
   "source": [
    "If we choose 0.2 as our similarity threshold, then we will have 60% of the documents labeled as dissimilar and 40% as similar."
   ]
  },
  {
   "cell_type": "code",
   "execution_count": null,
   "metadata": {
    "collapsed": true
   },
   "outputs": [],
   "source": []
  }
 ],
 "metadata": {
  "kernelspec": {
   "display_name": "Python 2",
   "language": "python",
   "name": "python2"
  },
  "language_info": {
   "codemirror_mode": {
    "name": "ipython",
    "version": 2
   },
   "file_extension": ".py",
   "mimetype": "text/x-python",
   "name": "python",
   "nbconvert_exporter": "python",
   "pygments_lexer": "ipython2",
   "version": "2.7.13"
  }
 },
 "nbformat": 4,
 "nbformat_minor": 2
}
