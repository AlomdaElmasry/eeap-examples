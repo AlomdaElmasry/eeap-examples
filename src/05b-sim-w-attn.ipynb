{
 "cells": [
  {
   "cell_type": "markdown",
   "metadata": {},
   "source": [
    "# Document Similarity - w/ Attention"
   ]
  },
  {
   "cell_type": "code",
   "execution_count": 1,
   "metadata": {
    "collapsed": false
   },
   "outputs": [
    {
     "name": "stderr",
     "output_type": "stream",
     "text": [
      "Using TensorFlow backend.\n"
     ]
    }
   ],
   "source": [
    "from __future__ import division, print_function\n",
    "from keras import backend as K\n",
    "from keras.layers import Input\n",
    "from keras.layers.core import Dense, Dropout, Lambda\n",
    "from keras.layers.embeddings import Embedding\n",
    "from keras.layers.normalization import BatchNormalization\n",
    "from keras.layers.pooling import GlobalMaxPooling1D\n",
    "from keras.layers.recurrent import GRU\n",
    "from keras.layers.wrappers import TimeDistributed, Bidirectional\n",
    "from keras.layers.merge import concatenate\n",
    "from keras.models import Model\n",
    "from keras.optimizers import SGD\n",
    "from keras.utils import to_categorical\n",
    "from sklearn.datasets import fetch_20newsgroups\n",
    "from sklearn.metrics import accuracy_score, confusion_matrix\n",
    "from sklearn.model_selection import train_test_split\n",
    "import custom_attn\n",
    "import logging\n",
    "import matplotlib.pyplot as plt\n",
    "import nltk\n",
    "import numpy as np\n",
    "import os\n",
    "%matplotlib inline"
   ]
  },
  {
   "cell_type": "code",
   "execution_count": 2,
   "metadata": {
    "collapsed": true
   },
   "outputs": [],
   "source": [
    "DATA_DIR = \"../data\"\n",
    "\n",
    "VOCAB_FILE = os.path.join(DATA_DIR, \"ng-vocab.tsv\")\n",
    "MIN_OCCURS = 5\n",
    "\n",
    "GLOVE_FILE = os.path.join(DATA_DIR, \"glove.840B.300d.txt\")\n",
    "\n",
    "DOCSIM_IDLABELS = os.path.join(DATA_DIR, \"docsim-idlabels.tsv\")\n",
    "DOCSIM_TEXTS = os.path.join(DATA_DIR, \"docsim-texts.tsv\")\n",
    "\n",
    "# covers about 95% of input data\n",
    "MAX_SENTS = 40 # maximum number of sentences per document\n",
    "MAX_WORDS = 60 # maximum number of words per sentence\n",
    "\n",
    "WORD_EMBED_SIZE = 300\n",
    "SENT_EMBED_SIZE = 100\n",
    "DOC_EMBED_SIZE = 50\n",
    "NUM_CLASSES = 2\n",
    "\n",
    "BATCH_SIZE = 64\n",
    "NUM_EPOCHS = 5\n",
    "\n",
    "logging.basicConfig()"
   ]
  },
  {
   "cell_type": "markdown",
   "metadata": {},
   "source": [
    "## Load Vocabulary"
   ]
  },
  {
   "cell_type": "code",
   "execution_count": 3,
   "metadata": {
    "collapsed": false
   },
   "outputs": [
    {
     "name": "stdout",
     "output_type": "stream",
     "text": [
      "vocab_size: 40730\n"
     ]
    }
   ],
   "source": [
    "word2id = {\"PAD\": 0, \"UNK\": 1}\n",
    "fvocab = open(VOCAB_FILE, \"rb\")\n",
    "for i, line in enumerate(fvocab):\n",
    "    word, count = line.strip().split(\"\\t\")\n",
    "    if int(count) <= MIN_OCCURS:\n",
    "        break\n",
    "    word2id[word] = i\n",
    "fvocab.close()\n",
    "id2word = {v:k for k, v in word2id.items()}\n",
    "vocab_size = len(word2id)\n",
    "print(\"vocab_size: {:d}\".format(vocab_size))"
   ]
  },
  {
   "cell_type": "markdown",
   "metadata": {},
   "source": [
    "## Load GloVe Embeddings"
   ]
  },
  {
   "cell_type": "code",
   "execution_count": 4,
   "metadata": {
    "collapsed": false
   },
   "outputs": [
    {
     "name": "stdout",
     "output_type": "stream",
     "text": [
      "(40730, 300)\n"
     ]
    }
   ],
   "source": [
    "E = np.zeros((vocab_size, WORD_EMBED_SIZE))\n",
    "E[1] = np.random.random(WORD_EMBED_SIZE)\n",
    "fglove = open(GLOVE_FILE, \"rb\")\n",
    "for line in fglove:\n",
    "    cols = line.strip().split(\" \")\n",
    "    word = cols[0]\n",
    "    if not word2id.has_key(word):\n",
    "        continue\n",
    "    vec = np.array([float(x) for x in cols[1:]])\n",
    "    idx = word2id[word]\n",
    "    E[idx] = vec\n",
    "fglove.close()\n",
    "print(E.shape)"
   ]
  },
  {
   "cell_type": "markdown",
   "metadata": {},
   "source": [
    "## Compute Document Vectors"
   ]
  },
  {
   "cell_type": "code",
   "execution_count": 5,
   "metadata": {
    "collapsed": false
   },
   "outputs": [
    {
     "name": "stdout",
     "output_type": "stream",
     "text": [
      "['like', 'a', 'mouse']\n",
      "['PAD', 'The', 'cat', 'fought', 'like', 'a', 'mouse']\n"
     ]
    }
   ],
   "source": [
    "def pad_or_truncate(xs, maxlen):\n",
    "    if len(xs) > maxlen:\n",
    "        xs = xs[len(xs) - maxlen:]\n",
    "    elif len(xs) < maxlen:\n",
    "        xs = [\"PAD\"] * (maxlen - len(xs)) + xs\n",
    "    return xs\n",
    "\n",
    "xs = [\"The\", \"cat\", \"fought\", \"like\", \"a\", \"mouse\"]\n",
    "print(pad_or_truncate(xs, 3))\n",
    "print(pad_or_truncate(xs, 7))"
   ]
  },
  {
   "cell_type": "code",
   "execution_count": 6,
   "metadata": {
    "collapsed": false
   },
   "outputs": [
    {
     "name": "stdout",
     "output_type": "stream",
     "text": [
      "1885 (40, 60)\n"
     ]
    }
   ],
   "source": [
    "docid2mat = {}\n",
    "ftext = open(DOCSIM_TEXTS, \"rb\")\n",
    "for line in ftext:\n",
    "    rec_id, text = line.strip().split(\"\\t\")\n",
    "    M = np.zeros((MAX_SENTS, MAX_WORDS))\n",
    "    sents = pad_or_truncate(nltk.sent_tokenize(text), MAX_SENTS)\n",
    "    for sid, sent in enumerate(sents):\n",
    "        words = pad_or_truncate(nltk.word_tokenize(sent), MAX_WORDS)\n",
    "        for wid, word in enumerate(words):\n",
    "            try:\n",
    "                word_id = word2id[word]\n",
    "            except KeyError:\n",
    "                word_id = word2id[\"UNK\"]\n",
    "            M[sid, wid] = word_id\n",
    "    docid2mat[int(rec_id)] = M\n",
    "ftext.close()\n",
    "print(len(docid2mat), docid2mat[list(docid2mat.keys())[0]].shape)"
   ]
  },
  {
   "cell_type": "markdown",
   "metadata": {},
   "source": [
    "## Extract Label and DocID pairs"
   ]
  },
  {
   "cell_type": "code",
   "execution_count": 7,
   "metadata": {
    "collapsed": false
   },
   "outputs": [
    {
     "name": "stdout",
     "output_type": "stream",
     "text": [
      "(70253, 2) (70253, 2)\n"
     ]
    }
   ],
   "source": [
    "xdata, ydata = [], []\n",
    "fidl = open(DOCSIM_IDLABELS, \"rb\")\n",
    "for line in fidl:\n",
    "    label, docid_left, docid_right = line.strip().split(\"\\t\")\n",
    "    xdata.append((int(docid_left), int(docid_right)))\n",
    "    ydata.append(int(label))\n",
    "X = np.array(xdata)\n",
    "Y = to_categorical(np.array(ydata), num_classes=NUM_CLASSES)\n",
    "print(X.shape, Y.shape)"
   ]
  },
  {
   "cell_type": "markdown",
   "metadata": {},
   "source": [
    "## Partition into training, validation and test"
   ]
  },
  {
   "cell_type": "code",
   "execution_count": 8,
   "metadata": {
    "collapsed": false
   },
   "outputs": [
    {
     "name": "stdout",
     "output_type": "stream",
     "text": [
      "(44259, 2) (44259, 2) (4918, 2) (4918, 2) (21076, 2) (21076, 2)\n"
     ]
    }
   ],
   "source": [
    "Xtv, Xtest, Ytv, Ytest = train_test_split(X, Y, train_size=0.7)\n",
    "Xtrain, Xval, Ytrain, Yval = train_test_split(Xtv, Ytv, train_size=0.9)\n",
    "print(Xtrain.shape, Ytrain.shape, Xval.shape, Yval.shape, \n",
    "      Xtest.shape, Ytest.shape)"
   ]
  },
  {
   "cell_type": "markdown",
   "metadata": {},
   "source": [
    "## Build Data Generator"
   ]
  },
  {
   "cell_type": "code",
   "execution_count": 9,
   "metadata": {
    "collapsed": false
   },
   "outputs": [
    {
     "name": "stdout",
     "output_type": "stream",
     "text": [
      "(64, 40, 60) (64, 40, 60) (64, 2)\n"
     ]
    }
   ],
   "source": [
    "def datagen(X, Y, docid2mat, batch_size=BATCH_SIZE):\n",
    "    while True:\n",
    "        num_recs = X.shape[0]\n",
    "        indices = np.random.permutation(np.arange(num_recs))\n",
    "        num_batches = num_recs // batch_size\n",
    "        for bid in range(num_batches):\n",
    "            batch_ids = indices[bid * batch_size : (bid + 1) * batch_size]\n",
    "            Xbatch_l = np.zeros((batch_size, MAX_SENTS, MAX_WORDS))\n",
    "            Xbatch_r = np.zeros((batch_size, MAX_SENTS, MAX_WORDS))\n",
    "            for idx, (docid_l, docid_r) in enumerate(X[batch_ids, :]):\n",
    "                Xbatch_l[idx] = docid2mat[docid_l]\n",
    "                Xbatch_r[idx] = docid2mat[docid_r]\n",
    "            Ybatch = Y[batch_ids, :]\n",
    "            yield [Xbatch_l, Xbatch_r], Ybatch\n",
    "\n",
    "train_gen = datagen(Xtrain, Ytrain, docid2mat)\n",
    "[Xbatch_left, Xbatch_right], Ybatch = train_gen.next()\n",
    "print(Xbatch_left.shape, Xbatch_right.shape, Ybatch.shape)"
   ]
  },
  {
   "cell_type": "markdown",
   "metadata": {},
   "source": [
    "## Define Network\n",
    "\n",
    "### Sentence Networks"
   ]
  },
  {
   "cell_type": "code",
   "execution_count": 10,
   "metadata": {
    "collapsed": false
   },
   "outputs": [
    {
     "name": "stdout",
     "output_type": "stream",
     "text": [
      "_________________________________________________________________\n",
      "Layer (type)                 Output Shape              Param #   \n",
      "=================================================================\n",
      "input_1 (InputLayer)         (None, 60)                0         \n",
      "_________________________________________________________________\n",
      "embedding_1 (Embedding)      (None, 60, 300)           12219000  \n",
      "_________________________________________________________________\n",
      "bidirectional_1 (Bidirection (None, 200)               240600    \n",
      "=================================================================\n",
      "Total params: 12,459,600\n",
      "Trainable params: 12,459,600\n",
      "Non-trainable params: 0\n",
      "_________________________________________________________________\n"
     ]
    }
   ],
   "source": [
    "sent_in_l = Input(shape=(MAX_WORDS,), dtype=\"int32\")\n",
    "\n",
    "sent_emb_l = Embedding(input_dim=vocab_size,\n",
    "                       output_dim=WORD_EMBED_SIZE,\n",
    "                       weights=[E])(sent_in_l)\n",
    "\n",
    "sent_enc_l = Bidirectional(GRU(SENT_EMBED_SIZE,\n",
    "                               return_sequences=False))(sent_emb_l)\n",
    "\n",
    "sent_model_l = Model(inputs=sent_in_l, outputs=sent_enc_l)\n",
    "sent_model_l.summary()"
   ]
  },
  {
   "cell_type": "code",
   "execution_count": 11,
   "metadata": {
    "collapsed": false
   },
   "outputs": [
    {
     "name": "stdout",
     "output_type": "stream",
     "text": [
      "_________________________________________________________________\n",
      "Layer (type)                 Output Shape              Param #   \n",
      "=================================================================\n",
      "input_2 (InputLayer)         (None, 60)                0         \n",
      "_________________________________________________________________\n",
      "embedding_2 (Embedding)      (None, 60, 300)           12219000  \n",
      "_________________________________________________________________\n",
      "bidirectional_2 (Bidirection (None, 200)               240600    \n",
      "=================================================================\n",
      "Total params: 12,459,600\n",
      "Trainable params: 12,459,600\n",
      "Non-trainable params: 0\n",
      "_________________________________________________________________\n"
     ]
    }
   ],
   "source": [
    "sent_in_r = Input(shape=(MAX_WORDS,), dtype=\"int32\")\n",
    "\n",
    "sent_emb_r = Embedding(input_dim=vocab_size,\n",
    "                       output_dim=WORD_EMBED_SIZE,\n",
    "                       weights=[E])(sent_in_r)\n",
    "\n",
    "sent_enc_r = Bidirectional(GRU(SENT_EMBED_SIZE,\n",
    "                               return_sequences=False))(sent_emb_r)\n",
    "\n",
    "sent_model_r = Model(inputs=sent_in_r, outputs=sent_enc_r)\n",
    "sent_model_r.summary()"
   ]
  },
  {
   "cell_type": "markdown",
   "metadata": {},
   "source": [
    "### Document Networks"
   ]
  },
  {
   "cell_type": "code",
   "execution_count": 13,
   "metadata": {
    "collapsed": false
   },
   "outputs": [
    {
     "name": "stdout",
     "output_type": "stream",
     "text": [
      "____________________________________________________________________________________________________\n",
      "Layer (type)                     Output Shape          Param #     Connected to                     \n",
      "====================================================================================================\n",
      "input_3 (InputLayer)             (None, 40, 60)        0                                            \n",
      "____________________________________________________________________________________________________\n",
      "input_4 (InputLayer)             (None, 40, 60)        0                                            \n",
      "____________________________________________________________________________________________________\n",
      "time_distributed_1 (TimeDistribu (None, 40, 200)       12459600    input_3[0][0]                    \n",
      "____________________________________________________________________________________________________\n",
      "time_distributed_2 (TimeDistribu (None, 40, 200)       12459600    input_4[0][0]                    \n",
      "____________________________________________________________________________________________________\n",
      "bidirectional_3 (Bidirectional)  (None, 40, 100)       75300       time_distributed_1[0][0]         \n",
      "____________________________________________________________________________________________________\n",
      "bidirectional_4 (Bidirectional)  (None, 40, 100)       75300       time_distributed_2[0][0]         \n",
      "____________________________________________________________________________________________________\n",
      "attention_mm_1 (AttentionMM)     (None, 200)           8280        bidirectional_3[0][0]            \n",
      "                                                                   bidirectional_4[0][0]            \n",
      "____________________________________________________________________________________________________\n",
      "dropout_1 (Dropout)              (None, 200)           0           attention_mm_1[0][0]             \n",
      "____________________________________________________________________________________________________\n",
      "dense_1 (Dense)                  (None, 50)            10050       dropout_1[0][0]                  \n",
      "____________________________________________________________________________________________________\n",
      "dropout_2 (Dropout)              (None, 50)            0           dense_1[0][0]                    \n",
      "____________________________________________________________________________________________________\n",
      "dense_2 (Dense)                  (None, 2)             102         dropout_2[0][0]                  \n",
      "====================================================================================================\n",
      "Total params: 25,088,232\n",
      "Trainable params: 25,088,232\n",
      "Non-trainable params: 0\n",
      "____________________________________________________________________________________________________\n"
     ]
    }
   ],
   "source": [
    "# LHS document\n",
    "doc_in_l = Input(shape=(MAX_SENTS, MAX_WORDS), dtype=\"int32\")\n",
    "\n",
    "doc_emb_l = TimeDistributed(sent_model_l)(doc_in_l)\n",
    "\n",
    "doc_enc_l = Bidirectional(GRU(DOC_EMBED_SIZE,\n",
    "                              return_sequences=True))(doc_emb_l)\n",
    "\n",
    "# RHS document\n",
    "doc_in_r = Input(shape=(MAX_SENTS, MAX_WORDS), dtype=\"int32\")\n",
    "\n",
    "doc_emb_r = TimeDistributed(sent_model_r)(doc_in_r)\n",
    "\n",
    "doc_enc_r = Bidirectional(GRU(DOC_EMBED_SIZE,\n",
    "                              return_sequences=True))(doc_emb_r)\n",
    "\n",
    "# Attention\n",
    "doc_att = custom_attn.AttentionMM(\"concat\")([doc_enc_l, doc_enc_r])\n",
    "doc_att = BatchNormalization()(doc_att)\n",
    "\n",
    "# Prediction\n",
    "fc1_dropout = Dropout(0.2)(doc_att)\n",
    "fc1 = Dense(50, activation=\"relu\")(fc1_dropout)\n",
    "fc2_dropout = Dropout(0.2)(fc1)\n",
    "doc_pred = Dense(NUM_CLASSES, activation=\"softmax\")(fc2_dropout)\n",
    "\n",
    "model = Model(inputs=[doc_in_l, doc_in_r], outputs=doc_pred)\n",
    "model.summary()"
   ]
  },
  {
   "cell_type": "markdown",
   "metadata": {},
   "source": [
    "## Train Network"
   ]
  },
  {
   "cell_type": "code",
   "execution_count": 14,
   "metadata": {
    "collapsed": true
   },
   "outputs": [],
   "source": [
    "model.compile(loss=\"categorical_crossentropy\", optimizer=\"adam\",\n",
    "              metrics=[\"accuracy\"])"
   ]
  },
  {
   "cell_type": "code",
   "execution_count": 15,
   "metadata": {
    "collapsed": false
   },
   "outputs": [
    {
     "name": "stdout",
     "output_type": "stream",
     "text": [
      "Epoch 1/5\n",
      "691/691 [==============================] - 951s - loss: 0.2191 - acc: 0.8881 - val_loss: 0.0584 - val_acc: 0.9846\n",
      "Epoch 2/5\n",
      "691/691 [==============================] - 947s - loss: 0.0440 - acc: 0.9885 - val_loss: 0.0491 - val_acc: 0.9868\n",
      "Epoch 3/5\n",
      "691/691 [==============================] - 946s - loss: 0.0341 - acc: 0.9912 - val_loss: 0.0469 - val_acc: 0.9862\n",
      "Epoch 4/5\n",
      "691/691 [==============================] - 945s - loss: 0.0299 - acc: 0.9918 - val_loss: 0.0536 - val_acc: 0.9836\n",
      "Epoch 5/5\n",
      "691/691 [==============================] - 944s - loss: 0.0280 - acc: 0.9923 - val_loss: 0.0554 - val_acc: 0.9860\n"
     ]
    }
   ],
   "source": [
    "train_gen = datagen(Xtrain, Ytrain, docid2mat, batch_size=BATCH_SIZE)\n",
    "val_gen = datagen(Xval, Yval, docid2mat, batch_size=BATCH_SIZE)\n",
    "\n",
    "num_train_steps = len(Xtrain) // BATCH_SIZE\n",
    "num_val_steps = len(Xval) // BATCH_SIZE\n",
    "\n",
    "history = model.fit_generator(train_gen, \n",
    "                              steps_per_epoch=num_train_steps,\n",
    "                              epochs=NUM_EPOCHS,\n",
    "                              validation_data=val_gen,\n",
    "                              validation_steps=num_val_steps)"
   ]
  },
  {
   "cell_type": "code",
   "execution_count": 16,
   "metadata": {
    "collapsed": false
   },
   "outputs": [
    {
     "data": {
      "image/png": "[encoded data removed]",
      "text/plain": [
       "<matplotlib.figure.Figure at 0x7f8a94692c90>"
      ]
     },
     "metadata": {},
     "output_type": "display_data"
    }
   ],
   "source": [
    "plt.subplot(211)\n",
    "plt.title(\"accuracy\")\n",
    "plt.plot(history.history[\"acc\"], color=\"r\", label=\"train\")\n",
    "plt.plot(history.history[\"val_acc\"], color=\"b\", label=\"val\")\n",
    "plt.legend(loc=\"best\")\n",
    "\n",
    "plt.subplot(212)\n",
    "plt.title(\"loss\")\n",
    "plt.plot(history.history[\"loss\"], color=\"r\", label=\"train\")\n",
    "plt.plot(history.history[\"val_loss\"], color=\"b\", label=\"val\")\n",
    "plt.legend(loc=\"best\")\n",
    "\n",
    "plt.tight_layout()\n",
    "plt.show()"
   ]
  },
  {
   "cell_type": "markdown",
   "metadata": {},
   "source": [
    "## Evaluate Network"
   ]
  },
  {
   "cell_type": "code",
   "execution_count": 17,
   "metadata": {
    "collapsed": false
   },
   "outputs": [
    {
     "name": "stdout",
     "output_type": "stream",
     "text": [
      "accuracy score: 0.504\n",
      "\n",
      "confusion matrix\n",
      "\n",
      "[[5459 5161]\n",
      " [5293 5143]]\n"
     ]
    }
   ],
   "source": [
    "np.set_printoptions(linewidth=120)\n",
    "test_gen = datagen(Xtest, Ytest, docid2mat, batch_size=BATCH_SIZE)\n",
    "num_test_steps = len(Xtest) // BATCH_SIZE\n",
    "\n",
    "Ytest_ = model.predict_generator(test_gen, num_test_steps)\n",
    "\n",
    "ytest_ = np.argmax(Ytest_, axis=1)\n",
    "ytest = np.argmax(Ytest, axis=1)[0:len(ytest_)]\n",
    "\n",
    "print(\"accuracy score: {:.3f}\".format(accuracy_score(ytest, ytest_)))\n",
    "print(\"\\nconfusion matrix\\n\")\n",
    "print(confusion_matrix(ytest, ytest_))"
   ]
  }
 ],
 "metadata": {
  "kernelspec": {
   "display_name": "Python 2",
   "language": "python",
   "name": "python2"
  },
  "language_info": {
   "codemirror_mode": {
    "name": "ipython",
    "version": 2
   },
   "file_extension": ".py",
   "mimetype": "text/x-python",
   "name": "python",
   "nbconvert_exporter": "python",
   "pygments_lexer": "ipython2",
   "version": "2.7.13"
  }
 },
 "nbformat": 4,
 "nbformat_minor": 2
}
