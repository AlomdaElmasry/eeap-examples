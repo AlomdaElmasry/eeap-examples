{
 "cells": [
  {
   "cell_type": "markdown",
   "metadata": {},
   "source": [
    "# Document Similarity w/ Attention\n",
    "\n",
    "Attention layer applied to the merge, example of attending to 2 matrices and produce a vector."
   ]
  },
  {
   "cell_type": "code",
   "execution_count": 1,
   "metadata": {},
   "outputs": [
    {
     "name": "stderr",
     "output_type": "stream",
     "text": [
      "Using TensorFlow backend.\n"
     ]
    }
   ],
   "source": [
    "from __future__ import division, print_function\n",
    "from keras.callbacks import ModelCheckpoint\n",
    "from keras.layers import Input\n",
    "from keras.layers.core import Dense, Dropout\n",
    "from keras.layers.embeddings import Embedding\n",
    "from keras.layers.merge import concatenate\n",
    "from keras.layers.normalization import BatchNormalization\n",
    "from keras.layers.recurrent import GRU\n",
    "from keras.models import Model, load_model\n",
    "from keras.optimizers import Adam\n",
    "from keras.preprocessing.sequence import pad_sequences\n",
    "from keras.utils.np_utils import to_categorical\n",
    "from keras.layers.wrappers import Bidirectional\n",
    "from sklearn.metrics import accuracy_score, confusion_matrix\n",
    "import custom_attn\n",
    "import matplotlib.pyplot as plt\n",
    "import nltk\n",
    "import numpy as np\n",
    "import os\n",
    "%matplotlib inline"
   ]
  },
  {
   "cell_type": "code",
   "execution_count": 2,
   "metadata": {
    "collapsed": true
   },
   "outputs": [],
   "source": [
    "DATA_DIR = \"../data\"\n",
    "TRAIN_DIR = os.path.join(DATA_DIR, \"train\")\n",
    "TEST_DIR = os.path.join(DATA_DIR, \"test-gold\")\n",
    "\n",
    "DATA_SOURCES = [\"MSRpar\", \"MSRvid\", \"SMTeuroparl\"]\n",
    "SPAIR_FILE_TPL = \"STS.input.{:s}.txt\"\n",
    "LABEL_FILE_TPL = \"STS.gs.{:s}.txt\"\n",
    "\n",
    "VOCAB_FILE = os.path.join(DATA_DIR, \"sts-vocab.tsv\")\n",
    "\n",
    "GLOVE_FILE = os.path.join(DATA_DIR, \"glove.840B.300d.txt\")\n",
    "\n",
    "BEST_MODEL = os.path.join(DATA_DIR, \"07b-best-model.h5\")\n",
    "\n",
    "MIN_OCCURS = 2\n",
    "MAX_WORDS = 35\n",
    "\n",
    "WORD_EMBED_SIZE = 300\n",
    "SENT_EMBED_SIZE = 200\n",
    "\n",
    "NUM_CLASSES = 6\n",
    "\n",
    "BATCH_SIZE = 64\n",
    "NUM_EPOCHS = 10"
   ]
  },
  {
   "cell_type": "markdown",
   "metadata": {},
   "source": [
    "## Load Vocabulary"
   ]
  },
  {
   "cell_type": "code",
   "execution_count": 3,
   "metadata": {},
   "outputs": [
    {
     "name": "stdout",
     "output_type": "stream",
     "text": [
      "vocab_size: 6942\n"
     ]
    }
   ],
   "source": [
    "word2id = {\"PAD\": 0, \"UNK\": 1}\n",
    "fvocab = open(VOCAB_FILE, \"rb\")\n",
    "for i, line in enumerate(fvocab):\n",
    "    word, count = line.strip().split(\"\\t\")\n",
    "    if int(count) < MIN_OCCURS:\n",
    "        break\n",
    "    word2id[word] = i\n",
    "fvocab.close()\n",
    "id2word = {v:k for k, v in word2id.items()}\n",
    "vocab_size = len(word2id)\n",
    "print(\"vocab_size: {:d}\".format(vocab_size))"
   ]
  },
  {
   "cell_type": "markdown",
   "metadata": {},
   "source": [
    "## Load GloVe Embeddings"
   ]
  },
  {
   "cell_type": "code",
   "execution_count": 4,
   "metadata": {},
   "outputs": [
    {
     "name": "stdout",
     "output_type": "stream",
     "text": [
      "(6942, 300)\n"
     ]
    }
   ],
   "source": [
    "E = np.zeros((vocab_size, WORD_EMBED_SIZE))\n",
    "E[1] = np.random.random(WORD_EMBED_SIZE)\n",
    "fglove = open(GLOVE_FILE, \"rb\")\n",
    "for line in fglove:\n",
    "    cols = line.strip().split(\" \")\n",
    "    word = cols[0]\n",
    "    if not word2id.has_key(word):\n",
    "        continue\n",
    "    vec = np.array([float(x) for x in cols[1:]])\n",
    "    idx = word2id[word]\n",
    "    E[idx] = vec\n",
    "fglove.close()\n",
    "print(E.shape)"
   ]
  },
  {
   "cell_type": "markdown",
   "metadata": {},
   "source": [
    "## Compute Input Sequences"
   ]
  },
  {
   "cell_type": "code",
   "execution_count": 5,
   "metadata": {},
   "outputs": [
    {
     "name": "stdout",
     "output_type": "stream",
     "text": [
      "(2234, 35) (2234, 35) (2234, 6)\n",
      "(1959, 35) (1959, 35) (1959, 6)\n"
     ]
    }
   ],
   "source": [
    "def convert_to_sequence(sent, word2id):\n",
    "    int_seq = []\n",
    "    sent = sent.decode(\"utf8\").encode(\"ascii\", \"ignore\").lower()\n",
    "    for word in nltk.word_tokenize(sent):\n",
    "        if word2id.has_key(word):\n",
    "            int_seq.append(word2id[word])\n",
    "        else:\n",
    "            int_seq.append(word2id[\"UNK\"])\n",
    "    return int_seq\n",
    "    \n",
    "def load_data(datadir, word2id, max_words):\n",
    "    xleft, xright, ys = [], [], []\n",
    "    for data_source in DATA_SOURCES:\n",
    "        label_filename = LABEL_FILE_TPL.format(data_source)\n",
    "        flabel = open(os.path.join(datadir, label_filename))\n",
    "        for line in flabel:\n",
    "            ys.append(float(line.strip()))\n",
    "        flabel.close()\n",
    "        # sentence pairs\n",
    "        spair_filename = SPAIR_FILE_TPL.format(data_source)\n",
    "        fsents = open(os.path.join(datadir, spair_filename))\n",
    "        for line in fsents:\n",
    "            left, right = line.strip().split(\"\\t\")\n",
    "            xleft.append(convert_to_sequence(left, word2id))\n",
    "            xright.append(convert_to_sequence(right, word2id))\n",
    "        fsents.close()\n",
    "        assert len(xleft) == len(xright) and len(xright) == len(ys)\n",
    "    Xleft = np.array(pad_sequences(xleft, maxlen=max_words))\n",
    "    Xright = np.array(pad_sequences(xright, maxlen=max_words))\n",
    "    Y = to_categorical(np.array(ys, dtype=\"int32\"), \n",
    "                       num_classes=NUM_CLASSES)\n",
    "    return Xleft, Xright, Y\n",
    "    \n",
    "Xtrain_l, Xtrain_r, Ytrain = load_data(TRAIN_DIR, word2id, MAX_WORDS)\n",
    "Xtest_l, Xtest_r, Ytest = load_data(TEST_DIR, word2id, MAX_WORDS)\n",
    "\n",
    "print(Xtrain_l.shape, Xtrain_r.shape, Ytrain.shape)\n",
    "print(Xtest_l.shape, Xtest_r.shape, Ytest.shape)"
   ]
  },
  {
   "cell_type": "markdown",
   "metadata": {},
   "source": [
    "## Define Network\n",
    "\n",
    "### Sentence Processing"
   ]
  },
  {
   "cell_type": "code",
   "execution_count": 6,
   "metadata": {},
   "outputs": [
    {
     "name": "stdout",
     "output_type": "stream",
     "text": [
      "_________________________________________________________________\n",
      "Layer (type)                 Output Shape              Param #   \n",
      "=================================================================\n",
      "input_1 (InputLayer)         (None, 35)                0         \n",
      "_________________________________________________________________\n",
      "embedding_1 (Embedding)      (None, 35, 300)           2082600   \n",
      "_________________________________________________________________\n",
      "bidirectional_1 (Bidirection (None, 35, 400)           601200    \n",
      "=================================================================\n",
      "Total params: 2,683,800\n",
      "Trainable params: 2,683,800\n",
      "Non-trainable params: 0\n",
      "_________________________________________________________________\n"
     ]
    }
   ],
   "source": [
    "sent_in = Input(shape=(MAX_WORDS, ), dtype=\"int32\")\n",
    "\n",
    "sent_emb = Embedding(input_dim=vocab_size,\n",
    "                     output_dim=WORD_EMBED_SIZE,\n",
    "                     weights=[E])(sent_in)\n",
    "sent_enc = Bidirectional(GRU(SENT_EMBED_SIZE,\n",
    "                             return_sequences=True))(sent_emb)\n",
    "\n",
    "sent_model = Model(inputs=sent_in, outputs=sent_enc)\n",
    "sent_model.summary()"
   ]
  },
  {
   "cell_type": "markdown",
   "metadata": {},
   "source": [
    "### Full Network\n",
    "\n",
    "Replacing the concatenate layer with an AttentionMM layer. Note that the transformations inside AttentionMM tend to create exploding gradients, causing the network to stop learning, so it is advisable to put a BatchNormalization layer after the attention layer."
   ]
  },
  {
   "cell_type": "code",
   "execution_count": 7,
   "metadata": {},
   "outputs": [
    {
     "name": "stdout",
     "output_type": "stream",
     "text": [
      "____________________________________________________________________________________________________\n",
      "Layer (type)                     Output Shape          Param #     Connected to                     \n",
      "====================================================================================================\n",
      "input_2 (InputLayer)             (None, 35)            0                                            \n",
      "____________________________________________________________________________________________________\n",
      "input_3 (InputLayer)             (None, 35)            0                                            \n",
      "____________________________________________________________________________________________________\n",
      "model_1 (Model)                  (None, 35, 400)       2683800     input_2[0][0]                    \n",
      "                                                                   input_3[0][0]                    \n",
      "____________________________________________________________________________________________________\n",
      "attention_mm_1 (AttentionMM)     (None, 800)           696000      model_1[1][0]                    \n",
      "                                                                   model_1[2][0]                    \n",
      "____________________________________________________________________________________________________\n",
      "batch_normalization_1 (BatchNorm (None, 800)           3200        attention_mm_1[0][0]             \n",
      "____________________________________________________________________________________________________\n",
      "dropout_1 (Dropout)              (None, 800)           0           batch_normalization_1[0][0]      \n",
      "____________________________________________________________________________________________________\n",
      "dense_1 (Dense)                  (None, 50)            40050       dropout_1[0][0]                  \n",
      "____________________________________________________________________________________________________\n",
      "dropout_2 (Dropout)              (None, 50)            0           dense_1[0][0]                    \n",
      "____________________________________________________________________________________________________\n",
      "dense_2 (Dense)                  (None, 6)             306         dropout_2[0][0]                  \n",
      "====================================================================================================\n",
      "Total params: 3,423,356\n",
      "Trainable params: 3,421,756\n",
      "Non-trainable params: 1,600\n",
      "____________________________________________________________________________________________________\n"
     ]
    }
   ],
   "source": [
    "sim_in_l = Input(shape=(MAX_WORDS,))\n",
    "sim_in_r = Input(shape=(MAX_WORDS,))\n",
    "\n",
    "sim_enc_l = sent_model(sim_in_l)\n",
    "sim_enc_r = sent_model(sim_in_r)\n",
    "\n",
    "sim_att = custom_attn.AttentionMM(\n",
    "    merge_mode=\"concat\")([sim_enc_l, sim_enc_r])\n",
    "sim_att = BatchNormalization()(sim_att)\n",
    "\n",
    "sim_fc1d = Dropout(0.2)(sim_att)\n",
    "sim_fc1 = Dense(50, activation=\"relu\")(sim_fc1d)\n",
    "sim_fc2d = Dropout(0.2)(sim_fc1)\n",
    "sim_pred = Dense(NUM_CLASSES, activation=\"softmax\")(sim_fc2d)\n",
    "\n",
    "model = Model(inputs=[sim_in_l, sim_in_r], outputs=[sim_pred])\n",
    "model.summary()"
   ]
  },
  {
   "cell_type": "code",
   "execution_count": 8,
   "metadata": {},
   "outputs": [],
   "source": [
    "adam = Adam(lr=5e-4)\n",
    "model.compile(loss=\"categorical_crossentropy\", optimizer=adam,\n",
    "              metrics=[\"accuracy\"])"
   ]
  },
  {
   "cell_type": "code",
   "execution_count": 9,
   "metadata": {},
   "outputs": [
    {
     "name": "stdout",
     "output_type": "stream",
     "text": [
      "Train on 2010 samples, validate on 224 samples\n",
      "Epoch 1/10\n",
      "2010/2010 [==============================] - 8s - loss: 1.7189 - acc: 0.3363 - val_loss: 3.1584 - val_acc: 0.3616\n",
      "Epoch 2/10\n",
      "2010/2010 [==============================] - 5s - loss: 1.5966 - acc: 0.3726 - val_loss: 2.6759 - val_acc: 0.3929\n",
      "Epoch 3/10\n",
      "2010/2010 [==============================] - 5s - loss: 1.5224 - acc: 0.3985 - val_loss: 1.8949 - val_acc: 0.5670\n",
      "Epoch 4/10\n",
      "2010/2010 [==============================] - 5s - loss: 1.4704 - acc: 0.4249 - val_loss: 1.4795 - val_acc: 0.5804\n",
      "Epoch 5/10\n",
      "2010/2010 [==============================] - 5s - loss: 1.3832 - acc: 0.4667 - val_loss: 1.9847 - val_acc: 0.3438\n",
      "Epoch 6/10\n",
      "2010/2010 [==============================] - 5s - loss: 1.3262 - acc: 0.4841 - val_loss: 1.2279 - val_acc: 0.6295\n",
      "Epoch 7/10\n",
      "2010/2010 [==============================] - 5s - loss: 1.2581 - acc: 0.5015 - val_loss: 1.8098 - val_acc: 0.3616\n",
      "Epoch 8/10\n",
      "2010/2010 [==============================] - 5s - loss: 1.2207 - acc: 0.5114 - val_loss: 1.3165 - val_acc: 0.5491\n",
      "Epoch 9/10\n",
      "2010/2010 [==============================] - 5s - loss: 1.1552 - acc: 0.5527 - val_loss: 1.4381 - val_acc: 0.5134\n",
      "Epoch 10/10\n",
      "2010/2010 [==============================] - 5s - loss: 1.0405 - acc: 0.5891 - val_loss: 1.3086 - val_acc: 0.6830\n"
     ]
    }
   ],
   "source": [
    "checkpoint = ModelCheckpoint(filepath=BEST_MODEL, save_best_only=True)\n",
    "history = model.fit([Xtrain_l, Xtrain_r], Ytrain, \n",
    "                    batch_size=BATCH_SIZE,\n",
    "                    epochs=NUM_EPOCHS,\n",
    "                    validation_split=0.1,\n",
    "                    callbacks=[checkpoint])"
   ]
  },
  {
   "cell_type": "code",
   "execution_count": 10,
   "metadata": {},
   "outputs": [
    {
     "data": {
      "image/png": "[encoded data removed]",
      "text/plain": [
       "<matplotlib.figure.Figure at 0x7fc7a4785710>"
      ]
     },
     "metadata": {},
     "output_type": "display_data"
    }
   ],
   "source": [
    "plt.subplot(211)\n",
    "plt.title(\"accuracy\")\n",
    "plt.plot(history.history[\"acc\"], color=\"r\", label=\"train\")\n",
    "plt.plot(history.history[\"val_acc\"], color=\"b\", label=\"val\")\n",
    "plt.legend(loc=\"best\")\n",
    "\n",
    "plt.subplot(212)\n",
    "plt.title(\"loss\")\n",
    "plt.plot(history.history[\"loss\"], color=\"r\", label=\"train\")\n",
    "plt.plot(history.history[\"val_loss\"], color=\"b\", label=\"val\")\n",
    "plt.legend(loc=\"best\")\n",
    "\n",
    "plt.tight_layout()\n",
    "plt.show()"
   ]
  },
  {
   "cell_type": "markdown",
   "metadata": {},
   "source": [
    "## Evaluate Network"
   ]
  },
  {
   "cell_type": "code",
   "execution_count": 11,
   "metadata": {},
   "outputs": [
    {
     "name": "stdout",
     "output_type": "stream",
     "text": [
      "accuracy score: 0.307\n",
      "\n",
      "confusion matrix\n",
      "\n",
      "[[228   0   1   1   0   0]\n",
      " [139   2   8  16   1   0]\n",
      " [165   1  21  57   2   0]\n",
      " [260   1  56 215  50   0]\n",
      " [252   0  40  82 135   0]\n",
      " [114   0  18  21  73   0]]\n"
     ]
    }
   ],
   "source": [
    "model.load_weights(BEST_MODEL)\n",
    "Ytest_ = model.predict([Xtest_l, Xtest_r])\n",
    "\n",
    "ytest = np.argmax(Ytest, axis=1)\n",
    "ytest_ = np.argmax(Ytest_, axis=1)\n",
    "\n",
    "np.set_printoptions(linewidth=120)\n",
    "print(\"accuracy score: {:.3f}\".format(accuracy_score(ytest, ytest_)))\n",
    "print(\"\\nconfusion matrix\\n\")\n",
    "print(confusion_matrix(ytest, ytest_))"
   ]
  },
  {
   "cell_type": "code",
   "execution_count": null,
   "metadata": {
    "collapsed": true
   },
   "outputs": [],
   "source": []
  }
 ],
 "metadata": {
  "kernelspec": {
   "display_name": "Python 2",
   "language": "python",
   "name": "python2"
  },
  "language_info": {
   "codemirror_mode": {
    "name": "ipython",
    "version": 2
   },
   "file_extension": ".py",
   "mimetype": "text/x-python",
   "name": "python",
   "nbconvert_exporter": "python",
   "pygments_lexer": "ipython2",
   "version": "2.7.6"
  }
 },
 "nbformat": 4,
 "nbformat_minor": 2
}
